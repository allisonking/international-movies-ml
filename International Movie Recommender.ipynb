{
 "cells": [
  {
   "cell_type": "markdown",
   "metadata": {},
   "source": [
    "<div id=\"toc\"> </div>"
   ]
  },
  {
   "cell_type": "markdown",
   "metadata": {
    "slideshow": {
     "slide_type": "-"
    }
   },
   "source": [
    "# Recommending movies from around the world!\n",
    "## Motivation\n",
    "One of the potential dangers in recommender systems is also what they are meant to do- recommend you things that you will continue to like. This can lead people to continue liking things they already like with nothing that would inspire them to try something out of their comfort zone. Branching out can lead to diversity in thinking as well as increased empathy. Therefore, the goal of this project is to deliberately use a user's preference to recommend them movies from another country. The user will be able to choose a country, then the recommender will use their preferences to recommend a movie for them from that country. This project was partly inspired by [Book Riot's list of 80 books from the 80 most populated countries in the world](http://bookriot.com/2016/04/28/around-world-80-books-global-reading-list/ \"book riot list\").\n",
    "\n",
    "## Getting the data we need\n",
    "\n",
    "We'll begin by importing some data. We're going to use the [Movielens](https://grouplens.org/datasets/movielens/) dataset, a dataset of user ratings of movies collected by GroupLens Research at the Department of Computer Science and Engineering at the University of Minnesota. \n",
    "\n",
    "This dataset comes with the following files:\n",
    "* `links.csv`: a list of movie ids, along with their IMDB ids. \n",
    "* `movies.csv`: a list of movie ids, their title, and their genre\n",
    "* `ratings.csv`: a list of user ids, the movie id of the movie they rated, the rating they gave it, and the timestamp of when they rated the movie\n",
    "* `tags.csv`: a list of user created tags \n",
    "\n",
    "Unfortunately, the Movielens data doesn't automatically come with the country associated with each movie. That's okay though- we can write some scripts to grab that data for us. We can do this data gathering using [OMDB](http://www.omdbapi.com/), the Open Movie database, whose API allows us to access IMDB data. Luckily, thanks to `links.csv`, we have the IMDB ids, so accessing the data is easy.\n",
    "\n",
    "In the code snippet below, we can see the first five rows of `links.csv`. We'll be using [pandas](http://pandas.pydata.org/), a data analysis library, for most of our data manipulation... at first."
   ]
  },
  {
   "cell_type": "code",
   "execution_count": 1,
   "metadata": {},
   "outputs": [
    {
     "data": {
      "text/html": [
       "<div>\n",
       "<table border=\"1\" class=\"dataframe\">\n",
       "  <thead>\n",
       "    <tr style=\"text-align: right;\">\n",
       "      <th></th>\n",
       "      <th>movieId</th>\n",
       "      <th>imdbId</th>\n",
       "      <th>tmdbId</th>\n",
       "    </tr>\n",
       "  </thead>\n",
       "  <tbody>\n",
       "    <tr>\n",
       "      <th>0</th>\n",
       "      <td>1</td>\n",
       "      <td>0114709</td>\n",
       "      <td>862</td>\n",
       "    </tr>\n",
       "    <tr>\n",
       "      <th>1</th>\n",
       "      <td>2</td>\n",
       "      <td>0113497</td>\n",
       "      <td>8844</td>\n",
       "    </tr>\n",
       "    <tr>\n",
       "      <th>2</th>\n",
       "      <td>3</td>\n",
       "      <td>0113228</td>\n",
       "      <td>15602</td>\n",
       "    </tr>\n",
       "    <tr>\n",
       "      <th>3</th>\n",
       "      <td>4</td>\n",
       "      <td>0114885</td>\n",
       "      <td>31357</td>\n",
       "    </tr>\n",
       "    <tr>\n",
       "      <th>4</th>\n",
       "      <td>5</td>\n",
       "      <td>0113041</td>\n",
       "      <td>11862</td>\n",
       "    </tr>\n",
       "  </tbody>\n",
       "</table>\n",
       "</div>"
      ],
      "text/plain": [
       "   movieId   imdbId tmdbId\n",
       "0        1  0114709    862\n",
       "1        2  0113497   8844\n",
       "2        3  0113228  15602\n",
       "3        4  0114885  31357\n",
       "4        5  0113041  11862"
      ]
     },
     "execution_count": 1,
     "metadata": {},
     "output_type": "execute_result"
    }
   ],
   "source": [
    "# pandas library for data analysis (good read reading in and manipulating our CSV files)\n",
    "import pandas as pd\n",
    "# we'll need the requests library to make http requests to the OMDB API\n",
    "import requests\n",
    "\n",
    "# open links.csv in order to access IMDB id numbers\n",
    "links_file = pd.read_csv('movie-lens-data/links.csv', dtype={'imdbId': object, 'tmdbId': object})\n",
    "links_file.head(n=5)"
   ]
  },
  {
   "cell_type": "markdown",
   "metadata": {},
   "source": [
    "We'll do one example of using the `requests` library to get our data from OMDB next."
   ]
  },
  {
   "cell_type": "code",
   "execution_count": 2,
   "metadata": {},
   "outputs": [
    {
     "name": "stdout",
     "output_type": "stream",
     "text": [
      "The OMDB URL we will send our request to: http://www.omdbapi.com/?i=tt0114709\n",
      "Country associated with movieId 1: USA\n"
     ]
    }
   ],
   "source": [
    "# get the OMDB API URL\n",
    "omdb_url = 'http://www.omdbapi.com/?i=tt'\n",
    "\n",
    "# get the IMDB id for one of our movies\n",
    "imdb_id = links_file.iloc[0].imdbId\n",
    "\n",
    "# get the full OMDB url\n",
    "url = omdb_url + imdb_id\n",
    "print 'The OMDB URL we will send our request to: %s' % url\n",
    "\n",
    "# get the countries associated with the movie\n",
    "response = requests.get(url)\n",
    "countries = response.json()['Country']\n",
    "print 'Country associated with movieId %s: %s' %(links_file.iloc[0].movieId, countries)"
   ]
  },
  {
   "cell_type": "markdown",
   "metadata": {},
   "source": [
    "Cool, so we found the first movie listed was a movie from the USA! So what movie was it? Since we only have the movie ID, we'll have to JOIN it with the information in `movies.csv` to get the actual movie title."
   ]
  },
  {
   "cell_type": "code",
   "execution_count": 3,
   "metadata": {},
   "outputs": [
    {
     "data": {
      "text/html": [
       "<div>\n",
       "<table border=\"1\" class=\"dataframe\">\n",
       "  <thead>\n",
       "    <tr style=\"text-align: right;\">\n",
       "      <th></th>\n",
       "      <th>movieId</th>\n",
       "      <th>title</th>\n",
       "      <th>genres</th>\n",
       "    </tr>\n",
       "  </thead>\n",
       "  <tbody>\n",
       "    <tr>\n",
       "      <th>0</th>\n",
       "      <td>1</td>\n",
       "      <td>Toy Story (1995)</td>\n",
       "      <td>Adventure|Animation|Children|Comedy|Fantasy</td>\n",
       "    </tr>\n",
       "    <tr>\n",
       "      <th>1</th>\n",
       "      <td>2</td>\n",
       "      <td>Jumanji (1995)</td>\n",
       "      <td>Adventure|Children|Fantasy</td>\n",
       "    </tr>\n",
       "    <tr>\n",
       "      <th>2</th>\n",
       "      <td>3</td>\n",
       "      <td>Grumpier Old Men (1995)</td>\n",
       "      <td>Comedy|Romance</td>\n",
       "    </tr>\n",
       "    <tr>\n",
       "      <th>3</th>\n",
       "      <td>4</td>\n",
       "      <td>Waiting to Exhale (1995)</td>\n",
       "      <td>Comedy|Drama|Romance</td>\n",
       "    </tr>\n",
       "    <tr>\n",
       "      <th>4</th>\n",
       "      <td>5</td>\n",
       "      <td>Father of the Bride Part II (1995)</td>\n",
       "      <td>Comedy</td>\n",
       "    </tr>\n",
       "  </tbody>\n",
       "</table>\n",
       "</div>"
      ],
      "text/plain": [
       "   movieId                               title  \\\n",
       "0        1                    Toy Story (1995)   \n",
       "1        2                      Jumanji (1995)   \n",
       "2        3             Grumpier Old Men (1995)   \n",
       "3        4            Waiting to Exhale (1995)   \n",
       "4        5  Father of the Bride Part II (1995)   \n",
       "\n",
       "                                        genres  \n",
       "0  Adventure|Animation|Children|Comedy|Fantasy  \n",
       "1                   Adventure|Children|Fantasy  \n",
       "2                               Comedy|Romance  \n",
       "3                         Comedy|Drama|Romance  \n",
       "4                                       Comedy  "
      ]
     },
     "execution_count": 3,
     "metadata": {},
     "output_type": "execute_result"
    }
   ],
   "source": [
    "movies_file = pd.read_csv('movie-lens-data/movies.csv')\n",
    "movies_file.head(n=5)"
   ]
  },
  {
   "cell_type": "markdown",
   "metadata": {},
   "source": [
    "Oh cool- Toy Story, most definitely a movie from the US! We can add this to our `movies.csv` file so that it will look like:"
   ]
  },
  {
   "cell_type": "code",
   "execution_count": 4,
   "metadata": {},
   "outputs": [
    {
     "data": {
      "text/html": [
       "<div>\n",
       "<table border=\"1\" class=\"dataframe\">\n",
       "  <thead>\n",
       "    <tr style=\"text-align: right;\">\n",
       "      <th></th>\n",
       "      <th>movieId</th>\n",
       "      <th>title</th>\n",
       "      <th>genres</th>\n",
       "      <th>country</th>\n",
       "    </tr>\n",
       "  </thead>\n",
       "  <tbody>\n",
       "    <tr>\n",
       "      <th>0</th>\n",
       "      <td>1</td>\n",
       "      <td>Toy Story (1995)</td>\n",
       "      <td>Adventure|Animation|Children|Comedy|Fantasy</td>\n",
       "      <td>USA</td>\n",
       "    </tr>\n",
       "    <tr>\n",
       "      <th>1</th>\n",
       "      <td>2</td>\n",
       "      <td>Jumanji (1995)</td>\n",
       "      <td>Adventure|Children|Fantasy</td>\n",
       "      <td>NaN</td>\n",
       "    </tr>\n",
       "    <tr>\n",
       "      <th>2</th>\n",
       "      <td>3</td>\n",
       "      <td>Grumpier Old Men (1995)</td>\n",
       "      <td>Comedy|Romance</td>\n",
       "      <td>NaN</td>\n",
       "    </tr>\n",
       "    <tr>\n",
       "      <th>3</th>\n",
       "      <td>4</td>\n",
       "      <td>Waiting to Exhale (1995)</td>\n",
       "      <td>Comedy|Drama|Romance</td>\n",
       "      <td>NaN</td>\n",
       "    </tr>\n",
       "    <tr>\n",
       "      <th>4</th>\n",
       "      <td>5</td>\n",
       "      <td>Father of the Bride Part II (1995)</td>\n",
       "      <td>Comedy</td>\n",
       "      <td>NaN</td>\n",
       "    </tr>\n",
       "  </tbody>\n",
       "</table>\n",
       "</div>"
      ],
      "text/plain": [
       "   movieId                               title  \\\n",
       "0        1                    Toy Story (1995)   \n",
       "1        2                      Jumanji (1995)   \n",
       "2        3             Grumpier Old Men (1995)   \n",
       "3        4            Waiting to Exhale (1995)   \n",
       "4        5  Father of the Bride Part II (1995)   \n",
       "\n",
       "                                        genres country  \n",
       "0  Adventure|Animation|Children|Comedy|Fantasy     USA  \n",
       "1                   Adventure|Children|Fantasy     NaN  \n",
       "2                               Comedy|Romance     NaN  \n",
       "3                         Comedy|Drama|Romance     NaN  \n",
       "4                                       Comedy     NaN  "
      ]
     },
     "execution_count": 4,
     "metadata": {},
     "output_type": "execute_result"
    }
   ],
   "source": [
    "movies_file.set_value(0, 'country', countries)\n",
    "movies_file.head(n=5)"
   ]
  },
  {
   "cell_type": "markdown",
   "metadata": {},
   "source": [
    "We'll do this for the entire `movies.csv` file. Once we do that, we can take a look at our data.\n",
    "\n",
    "### Movielens data\n",
    "Since we're recommending movies by country, we should get a sense of how our data is distributed across countries. I went through the data and got some stats on the countries. Some movies have multiple countries associated with them, marked by 'USA|China|UK', for example, so in these cases I counted the movie as one for each of those countries. "
   ]
  },
  {
   "cell_type": "code",
   "execution_count": 5,
   "metadata": {},
   "outputs": [
    {
     "data": {
      "image/png": "[encoded data removed]",
      "text/plain": [
       "<matplotlib.figure.Figure at 0x10ead1510>"
      ]
     },
     "metadata": {},
     "output_type": "display_data"
    }
   ],
   "source": [
    "# stuff to make our graph show up in the notebook\n",
    "%matplotlib inline  \n",
    "import matplotlib\n",
    "import matplotlib.pyplot as plt\n",
    "matplotlib.rcParams['figure.figsize'] = (20.0, 10.0)\n",
    "\n",
    "# read in the file I had generated of number of times a country is attributed to a movie\n",
    "country_stats = pd.read_csv('scripts/output/country-stats-20m.csv')\n",
    "axes = country_stats.plot(x='country', y='count_percentage', kind='bar', title='Number of Movies from a Country',\n",
    "                              legend=False)\n",
    "# set the axes and set display\n",
    "axes.set_xlabel(\"Country\")\n",
    "axes.set_ylabel(\"Count\")\n",
    "plt.tight_layout()\n",
    "plt.show()"
   ]
  },
  {
   "cell_type": "markdown",
   "metadata": {},
   "source": [
    "From this plot, it's pretty clear that the Movielens dataset has a huge number of movies from the USA- nearly 50%! After the USA, there are many from the UK, France, and Canada, along with a significant number from Italy, Japan, and Germany. This is important to keep in mind later when we look at what kind of recommendations we get."
   ]
  },
  {
   "cell_type": "markdown",
   "metadata": {},
   "source": [
    "## Recommender Types\n",
    "We're going to try out three different types of recommendation systems:\n",
    "* Popularity Recommender\n",
    "* Item Similarity Recommender\n",
    "* Ranking Factorization Recommender\n",
    "\n",
    "The following code involves importing the data and splitting it into test and train data. This code will be used for all of the recommender types.\n"
   ]
  },
  {
   "cell_type": "code",
   "execution_count": 6,
   "metadata": {},
   "outputs": [
    {
     "data": {
      "text/html": [
       "<div>\n",
       "<table border=\"1\" class=\"dataframe\">\n",
       "  <thead>\n",
       "    <tr style=\"text-align: right;\">\n",
       "      <th></th>\n",
       "      <th>userId</th>\n",
       "      <th>movieId</th>\n",
       "      <th>rating</th>\n",
       "      <th>timestamp</th>\n",
       "    </tr>\n",
       "  </thead>\n",
       "  <tbody>\n",
       "    <tr>\n",
       "      <th>0</th>\n",
       "      <td>1</td>\n",
       "      <td>31</td>\n",
       "      <td>2.5</td>\n",
       "      <td>1260759144</td>\n",
       "    </tr>\n",
       "    <tr>\n",
       "      <th>1</th>\n",
       "      <td>1</td>\n",
       "      <td>1029</td>\n",
       "      <td>3.0</td>\n",
       "      <td>1260759179</td>\n",
       "    </tr>\n",
       "    <tr>\n",
       "      <th>2</th>\n",
       "      <td>1</td>\n",
       "      <td>1061</td>\n",
       "      <td>3.0</td>\n",
       "      <td>1260759182</td>\n",
       "    </tr>\n",
       "    <tr>\n",
       "      <th>3</th>\n",
       "      <td>1</td>\n",
       "      <td>1129</td>\n",
       "      <td>2.0</td>\n",
       "      <td>1260759185</td>\n",
       "    </tr>\n",
       "    <tr>\n",
       "      <th>4</th>\n",
       "      <td>1</td>\n",
       "      <td>1172</td>\n",
       "      <td>4.0</td>\n",
       "      <td>1260759205</td>\n",
       "    </tr>\n",
       "  </tbody>\n",
       "</table>\n",
       "</div>"
      ],
      "text/plain": [
       "   userId  movieId  rating   timestamp\n",
       "0       1       31     2.5  1260759144\n",
       "1       1     1029     3.0  1260759179\n",
       "2       1     1061     3.0  1260759182\n",
       "3       1     1129     2.0  1260759185\n",
       "4       1     1172     4.0  1260759205"
      ]
     },
     "execution_count": 6,
     "metadata": {},
     "output_type": "execute_result"
    }
   ],
   "source": [
    "# let's choose a country that we're interested in watching a movie from\n",
    "country = 'Japan'\n",
    "\n",
    "# we'll import the ratings.csv which has data in the format of userId, movieId, rating, timestamp\n",
    "ratings_csv_path = 'movie-lens-data/ratings.csv'\n",
    "ratings_data = pd.read_csv(ratings_csv_path, encoding='utf-8')\n",
    "ratings_data.head(n=5)"
   ]
  },
  {
   "cell_type": "code",
   "execution_count": 7,
   "metadata": {},
   "outputs": [
    {
     "data": {
      "text/html": [
       "<div>\n",
       "<table border=\"1\" class=\"dataframe\">\n",
       "  <thead>\n",
       "    <tr style=\"text-align: right;\">\n",
       "      <th></th>\n",
       "      <th>movieId</th>\n",
       "      <th>title</th>\n",
       "      <th>genres</th>\n",
       "      <th>country</th>\n",
       "    </tr>\n",
       "  </thead>\n",
       "  <tbody>\n",
       "    <tr>\n",
       "      <th>0</th>\n",
       "      <td>1</td>\n",
       "      <td>Toy Story (1995)</td>\n",
       "      <td>Adventure|Animation|Children|Comedy|Fantasy</td>\n",
       "      <td>USA</td>\n",
       "    </tr>\n",
       "    <tr>\n",
       "      <th>1</th>\n",
       "      <td>2</td>\n",
       "      <td>Jumanji (1995)</td>\n",
       "      <td>Adventure|Children|Fantasy</td>\n",
       "      <td>USA</td>\n",
       "    </tr>\n",
       "    <tr>\n",
       "      <th>2</th>\n",
       "      <td>3</td>\n",
       "      <td>Grumpier Old Men (1995)</td>\n",
       "      <td>Comedy|Romance</td>\n",
       "      <td>USA</td>\n",
       "    </tr>\n",
       "    <tr>\n",
       "      <th>3</th>\n",
       "      <td>4</td>\n",
       "      <td>Waiting to Exhale (1995)</td>\n",
       "      <td>Comedy|Drama|Romance</td>\n",
       "      <td>USA</td>\n",
       "    </tr>\n",
       "    <tr>\n",
       "      <th>4</th>\n",
       "      <td>5</td>\n",
       "      <td>Father of the Bride Part II (1995)</td>\n",
       "      <td>Comedy</td>\n",
       "      <td>USA</td>\n",
       "    </tr>\n",
       "  </tbody>\n",
       "</table>\n",
       "</div>"
      ],
      "text/plain": [
       "   movieId                               title  \\\n",
       "0        1                    Toy Story (1995)   \n",
       "1        2                      Jumanji (1995)   \n",
       "2        3             Grumpier Old Men (1995)   \n",
       "3        4            Waiting to Exhale (1995)   \n",
       "4        5  Father of the Bride Part II (1995)   \n",
       "\n",
       "                                        genres country  \n",
       "0  Adventure|Animation|Children|Comedy|Fantasy     USA  \n",
       "1                   Adventure|Children|Fantasy     USA  \n",
       "2                               Comedy|Romance     USA  \n",
       "3                         Comedy|Drama|Romance     USA  \n",
       "4                                       Comedy     USA  "
      ]
     },
     "execution_count": 7,
     "metadata": {},
     "output_type": "execute_result"
    }
   ],
   "source": [
    "# now we need a data frame of the data we just got from OMDB that includes the country data\n",
    "# this file is of the format movieId, title, genres, country\n",
    "movies_country_csv_path = 'scripts/output/movie-countries.csv'\n",
    "movies_data = pd.read_csv(movies_country_csv_path, encoding='utf-8', keep_default_na=False)\n",
    "movies_data.head(n=5)"
   ]
  },
  {
   "cell_type": "code",
   "execution_count": 8,
   "metadata": {},
   "outputs": [
    {
     "name": "stdout",
     "output_type": "stream",
     "text": [
      "number of ratings in training set: 80003 \n",
      "number of ratings in test set: 20001 \n"
     ]
    }
   ],
   "source": [
    "from sklearn.model_selection import train_test_split\n",
    "\n",
    "# split 80% training, 20% testing\n",
    "training_data, test_data = train_test_split(ratings_data, test_size=0.2, random_state=5)\n",
    "print \"number of ratings in training set: %d \" % training_data.shape[0]\n",
    "print \"number of ratings in test set: %d \" % test_data.shape[0]"
   ]
  },
  {
   "cell_type": "markdown",
   "metadata": {},
   "source": [
    "Alright, now we're ready for each recommender type!\n",
    "\n",
    "### Popularity Recommender\n",
    "The popularity recommender does not actually use any machine learning- it simply recommends the most popular items based on previous user ratings. In other words, there is no personalization for the current user- all users receive the same results. The Bookbub list of 80 books is an example of a sort of popularity recommender since everybody is exposed to the same recommendations."
   ]
  },
  {
   "cell_type": "code",
   "execution_count": 9,
   "metadata": {},
   "outputs": [
    {
     "data": {
      "text/html": [
       "<div>\n",
       "<table border=\"1\" class=\"dataframe\">\n",
       "  <thead>\n",
       "    <tr style=\"text-align: right;\">\n",
       "      <th></th>\n",
       "      <th>userId</th>\n",
       "      <th>movieId</th>\n",
       "      <th>rating</th>\n",
       "      <th>timestamp</th>\n",
       "      <th>title</th>\n",
       "      <th>genres</th>\n",
       "      <th>country</th>\n",
       "    </tr>\n",
       "  </thead>\n",
       "  <tbody>\n",
       "    <tr>\n",
       "      <th>58604</th>\n",
       "      <td>1</td>\n",
       "      <td>31</td>\n",
       "      <td>2.5</td>\n",
       "      <td>1260759144</td>\n",
       "      <td>Dangerous Minds (1995)</td>\n",
       "      <td>Drama</td>\n",
       "      <td>USA</td>\n",
       "    </tr>\n",
       "    <tr>\n",
       "      <th>7380</th>\n",
       "      <td>1</td>\n",
       "      <td>1029</td>\n",
       "      <td>3.0</td>\n",
       "      <td>1260759179</td>\n",
       "      <td>Dumbo (1941)</td>\n",
       "      <td>Animation|Children|Drama|Musical</td>\n",
       "      <td>USA</td>\n",
       "    </tr>\n",
       "    <tr>\n",
       "      <th>40865</th>\n",
       "      <td>1</td>\n",
       "      <td>1061</td>\n",
       "      <td>3.0</td>\n",
       "      <td>1260759182</td>\n",
       "      <td>Sleepers (1996)</td>\n",
       "      <td>Thriller</td>\n",
       "      <td>USA</td>\n",
       "    </tr>\n",
       "    <tr>\n",
       "      <th>43326</th>\n",
       "      <td>1</td>\n",
       "      <td>1129</td>\n",
       "      <td>2.0</td>\n",
       "      <td>1260759185</td>\n",
       "      <td>Escape from New York (1981)</td>\n",
       "      <td>Action|Adventure|Sci-Fi|Thriller</td>\n",
       "      <td>UK|USA</td>\n",
       "    </tr>\n",
       "    <tr>\n",
       "      <th>55844</th>\n",
       "      <td>1</td>\n",
       "      <td>1172</td>\n",
       "      <td>4.0</td>\n",
       "      <td>1260759205</td>\n",
       "      <td>Cinema Paradiso (Nuovo cinema Paradiso) (1989)</td>\n",
       "      <td>Drama</td>\n",
       "      <td>Italy|France</td>\n",
       "    </tr>\n",
       "  </tbody>\n",
       "</table>\n",
       "</div>"
      ],
      "text/plain": [
       "       userId  movieId  rating   timestamp  \\\n",
       "58604       1       31     2.5  1260759144   \n",
       "7380        1     1029     3.0  1260759179   \n",
       "40865       1     1061     3.0  1260759182   \n",
       "43326       1     1129     2.0  1260759185   \n",
       "55844       1     1172     4.0  1260759205   \n",
       "\n",
       "                                                title  \\\n",
       "58604                          Dangerous Minds (1995)   \n",
       "7380                                     Dumbo (1941)   \n",
       "40865                                 Sleepers (1996)   \n",
       "43326                     Escape from New York (1981)   \n",
       "55844  Cinema Paradiso (Nuovo cinema Paradiso) (1989)   \n",
       "\n",
       "                                 genres       country  \n",
       "58604                             Drama           USA  \n",
       "7380   Animation|Children|Drama|Musical           USA  \n",
       "40865                          Thriller           USA  \n",
       "43326  Action|Adventure|Sci-Fi|Thriller        UK|USA  \n",
       "55844                             Drama  Italy|France  "
      ]
     },
     "execution_count": 9,
     "metadata": {},
     "output_type": "execute_result"
    }
   ],
   "source": [
    "# first we will merge our ratings data with our movie/country data\n",
    "training_ratings_with_movies = pd.merge(training_data, movies_data, on='movieId').sort_values(by=['userId', 'movieId'])\n",
    "training_ratings_with_movies.head(n=5)"
   ]
  },
  {
   "cell_type": "code",
   "execution_count": 10,
   "metadata": {},
   "outputs": [
    {
     "name": "stdout",
     "output_type": "stream",
     "text": [
      "total number of movies associated with Japan: 1731\n"
     ]
    },
    {
     "data": {
      "text/html": [
       "<div>\n",
       "<table border=\"1\" class=\"dataframe\">\n",
       "  <thead>\n",
       "    <tr style=\"text-align: right;\">\n",
       "      <th></th>\n",
       "      <th>userId</th>\n",
       "      <th>movieId</th>\n",
       "      <th>rating</th>\n",
       "      <th>timestamp</th>\n",
       "      <th>title</th>\n",
       "      <th>genres</th>\n",
       "      <th>country</th>\n",
       "    </tr>\n",
       "  </thead>\n",
       "  <tbody>\n",
       "    <tr>\n",
       "      <th>54241</th>\n",
       "      <td>2</td>\n",
       "      <td>273</td>\n",
       "      <td>4.0</td>\n",
       "      <td>835355779</td>\n",
       "      <td>Mary Shelley's Frankenstein (Frankenstein) (1994)</td>\n",
       "      <td>Drama|Horror|Sci-Fi</td>\n",
       "      <td>USA|Japan|UK</td>\n",
       "    </tr>\n",
       "    <tr>\n",
       "      <th>74990</th>\n",
       "      <td>4</td>\n",
       "      <td>4006</td>\n",
       "      <td>2.0</td>\n",
       "      <td>949982238</td>\n",
       "      <td>Transformers: The Movie (1986)</td>\n",
       "      <td>Adventure|Animation|Children|Sci-Fi</td>\n",
       "      <td>USA|Japan</td>\n",
       "    </tr>\n",
       "    <tr>\n",
       "      <th>41279</th>\n",
       "      <td>5</td>\n",
       "      <td>5679</td>\n",
       "      <td>4.5</td>\n",
       "      <td>1163374389</td>\n",
       "      <td>Ring, The (2002)</td>\n",
       "      <td>Horror|Mystery|Thriller</td>\n",
       "      <td>USA|Japan</td>\n",
       "    </tr>\n",
       "    <tr>\n",
       "      <th>17027</th>\n",
       "      <td>5</td>\n",
       "      <td>6711</td>\n",
       "      <td>2.5</td>\n",
       "      <td>1163373238</td>\n",
       "      <td>Lost in Translation (2003)</td>\n",
       "      <td>Comedy|Drama|Romance</td>\n",
       "      <td>USA|Japan</td>\n",
       "    </tr>\n",
       "    <tr>\n",
       "      <th>47176</th>\n",
       "      <td>6</td>\n",
       "      <td>1687</td>\n",
       "      <td>2.0</td>\n",
       "      <td>1109258281</td>\n",
       "      <td>Jackal, The (1997)</td>\n",
       "      <td>Action|Thriller</td>\n",
       "      <td>USA|UK|France|Germany|Japan</td>\n",
       "    </tr>\n",
       "  </tbody>\n",
       "</table>\n",
       "</div>"
      ],
      "text/plain": [
       "       userId  movieId  rating   timestamp  \\\n",
       "54241       2      273     4.0   835355779   \n",
       "74990       4     4006     2.0   949982238   \n",
       "41279       5     5679     4.5  1163374389   \n",
       "17027       5     6711     2.5  1163373238   \n",
       "47176       6     1687     2.0  1109258281   \n",
       "\n",
       "                                                   title  \\\n",
       "54241  Mary Shelley's Frankenstein (Frankenstein) (1994)   \n",
       "74990                     Transformers: The Movie (1986)   \n",
       "41279                                   Ring, The (2002)   \n",
       "17027                         Lost in Translation (2003)   \n",
       "47176                                 Jackal, The (1997)   \n",
       "\n",
       "                                    genres                      country  \n",
       "54241                  Drama|Horror|Sci-Fi                 USA|Japan|UK  \n",
       "74990  Adventure|Animation|Children|Sci-Fi                    USA|Japan  \n",
       "41279              Horror|Mystery|Thriller                    USA|Japan  \n",
       "17027                 Comedy|Drama|Romance                    USA|Japan  \n",
       "47176                      Action|Thriller  USA|UK|France|Germany|Japan  "
      ]
     },
     "execution_count": 10,
     "metadata": {},
     "output_type": "execute_result"
    }
   ],
   "source": [
    "# now we can apply a filter for country on the data set. \n",
    "country_filter = training_ratings_with_movies[training_ratings_with_movies.apply(\n",
    "    lambda x: country in x['country'], axis=1)]\n",
    "print \"total number of movies associated with %s: %d\" %(country, country_filter.shape[0])\n",
    "country_filter.head(n=5)"
   ]
  },
  {
   "cell_type": "markdown",
   "metadata": {},
   "source": [
    "We can do this country filter multiple ways. This first way takes any movie that has Japan associated with it. This next filter only accepts movies where Japan is the sole attributed country. This may be relevant since it seems that many times when a country is attributed as one among many countries, the movie does not actually have much to do with that country. For instance, A Simple Plan was co-financed by international partners from Germany, UK, France and so have these countries attributed to it. This isn't ideal if our goal is to learn about Japan as a country, so the sole filter may be more useful."
   ]
  },
  {
   "cell_type": "code",
   "execution_count": 11,
   "metadata": {},
   "outputs": [
    {
     "name": "stdout",
     "output_type": "stream",
     "text": [
      "total number of movies attributed solely to Japan: 645\n"
     ]
    },
    {
     "data": {
      "text/html": [
       "<div>\n",
       "<table border=\"1\" class=\"dataframe\">\n",
       "  <thead>\n",
       "    <tr style=\"text-align: right;\">\n",
       "      <th></th>\n",
       "      <th>userId</th>\n",
       "      <th>movieId</th>\n",
       "      <th>rating</th>\n",
       "      <th>timestamp</th>\n",
       "      <th>title</th>\n",
       "      <th>genres</th>\n",
       "      <th>country</th>\n",
       "    </tr>\n",
       "  </thead>\n",
       "  <tbody>\n",
       "    <tr>\n",
       "      <th>8483</th>\n",
       "      <td>6</td>\n",
       "      <td>2019</td>\n",
       "      <td>4.0</td>\n",
       "      <td>1109258270</td>\n",
       "      <td>Seven Samurai (Shichinin no samurai) (1954)</td>\n",
       "      <td>Action|Adventure|Drama</td>\n",
       "      <td>Japan</td>\n",
       "    </tr>\n",
       "    <tr>\n",
       "      <th>74884</th>\n",
       "      <td>12</td>\n",
       "      <td>3799</td>\n",
       "      <td>1.0</td>\n",
       "      <td>968045198</td>\n",
       "      <td>Pokémon the Movie 2000 (2000)</td>\n",
       "      <td>Animation|Children</td>\n",
       "      <td>Japan</td>\n",
       "    </tr>\n",
       "    <tr>\n",
       "      <th>75891</th>\n",
       "      <td>12</td>\n",
       "      <td>3864</td>\n",
       "      <td>3.0</td>\n",
       "      <td>968045015</td>\n",
       "      <td>Godzilla 2000 (Gojira ni-sen mireniamu) (1999)</td>\n",
       "      <td>Action|Adventure|Sci-Fi</td>\n",
       "      <td>Japan</td>\n",
       "    </tr>\n",
       "    <tr>\n",
       "      <th>8462</th>\n",
       "      <td>15</td>\n",
       "      <td>2019</td>\n",
       "      <td>4.5</td>\n",
       "      <td>1134521638</td>\n",
       "      <td>Seven Samurai (Shichinin no samurai) (1954)</td>\n",
       "      <td>Action|Adventure|Drama</td>\n",
       "      <td>Japan</td>\n",
       "    </tr>\n",
       "    <tr>\n",
       "      <th>73081</th>\n",
       "      <td>15</td>\n",
       "      <td>2624</td>\n",
       "      <td>3.0</td>\n",
       "      <td>997939255</td>\n",
       "      <td>After Life (Wandafuru raifu) (1998)</td>\n",
       "      <td>Drama|Fantasy</td>\n",
       "      <td>Japan</td>\n",
       "    </tr>\n",
       "  </tbody>\n",
       "</table>\n",
       "</div>"
      ],
      "text/plain": [
       "       userId  movieId  rating   timestamp  \\\n",
       "8483        6     2019     4.0  1109258270   \n",
       "74884      12     3799     1.0   968045198   \n",
       "75891      12     3864     3.0   968045015   \n",
       "8462       15     2019     4.5  1134521638   \n",
       "73081      15     2624     3.0   997939255   \n",
       "\n",
       "                                                title  \\\n",
       "8483      Seven Samurai (Shichinin no samurai) (1954)   \n",
       "74884                   Pokémon the Movie 2000 (2000)   \n",
       "75891  Godzilla 2000 (Gojira ni-sen mireniamu) (1999)   \n",
       "8462      Seven Samurai (Shichinin no samurai) (1954)   \n",
       "73081             After Life (Wandafuru raifu) (1998)   \n",
       "\n",
       "                        genres country  \n",
       "8483    Action|Adventure|Drama   Japan  \n",
       "74884       Animation|Children   Japan  \n",
       "75891  Action|Adventure|Sci-Fi   Japan  \n",
       "8462    Action|Adventure|Drama   Japan  \n",
       "73081            Drama|Fantasy   Japan  "
      ]
     },
     "execution_count": 11,
     "metadata": {},
     "output_type": "execute_result"
    }
   ],
   "source": [
    "sole_country_filter = training_ratings_with_movies.loc[training_ratings_with_movies['country']==country]\n",
    "print \"total number of movies attributed solely to %s: %d\" %(country, sole_country_filter.shape[0])\n",
    "sole_country_filter.head(n=5)"
   ]
  },
  {
   "cell_type": "markdown",
   "metadata": {},
   "source": [
    "Okay, now the fun part- let's see what the most popular movies are from Japan."
   ]
  },
  {
   "cell_type": "code",
   "execution_count": 12,
   "metadata": {},
   "outputs": [
    {
     "data": {
      "text/html": [
       "<div>\n",
       "<table border=\"1\" class=\"dataframe\">\n",
       "  <thead>\n",
       "    <tr>\n",
       "      <th></th>\n",
       "      <th>title</th>\n",
       "      <th colspan=\"2\" halign=\"left\">rating</th>\n",
       "    </tr>\n",
       "    <tr>\n",
       "      <th></th>\n",
       "      <th></th>\n",
       "      <th>size</th>\n",
       "      <th>mean</th>\n",
       "    </tr>\n",
       "  </thead>\n",
       "  <tbody>\n",
       "    <tr>\n",
       "      <th>0</th>\n",
       "      <td>Disappearance of Haruhi Suzumiya, The (Suzumiy...</td>\n",
       "      <td>1.0</td>\n",
       "      <td>5.0</td>\n",
       "    </tr>\n",
       "    <tr>\n",
       "      <th>1</th>\n",
       "      <td>Wolf Children (Okami kodomo no ame to yuki) (2...</td>\n",
       "      <td>1.0</td>\n",
       "      <td>5.0</td>\n",
       "    </tr>\n",
       "    <tr>\n",
       "      <th>2</th>\n",
       "      <td>Wild Zero (2000)</td>\n",
       "      <td>1.0</td>\n",
       "      <td>5.0</td>\n",
       "    </tr>\n",
       "    <tr>\n",
       "      <th>3</th>\n",
       "      <td>Maborosi (Maboroshi no hikari) (1995)</td>\n",
       "      <td>1.0</td>\n",
       "      <td>5.0</td>\n",
       "    </tr>\n",
       "    <tr>\n",
       "      <th>4</th>\n",
       "      <td>Burn Up! (1991)</td>\n",
       "      <td>1.0</td>\n",
       "      <td>5.0</td>\n",
       "    </tr>\n",
       "  </tbody>\n",
       "</table>\n",
       "</div>"
      ],
      "text/plain": [
       "                                               title rating     \n",
       "                                                       size mean\n",
       "0  Disappearance of Haruhi Suzumiya, The (Suzumiy...    1.0  5.0\n",
       "1  Wolf Children (Okami kodomo no ame to yuki) (2...    1.0  5.0\n",
       "2                                   Wild Zero (2000)    1.0  5.0\n",
       "3              Maborosi (Maboroshi no hikari) (1995)    1.0  5.0\n",
       "4                                    Burn Up! (1991)    1.0  5.0"
      ]
     },
     "execution_count": 12,
     "metadata": {},
     "output_type": "execute_result"
    }
   ],
   "source": [
    "import numpy as np\n",
    "\n",
    "popular_movies = sole_country_filter.groupby('title').agg({'rating': [np.size, np.mean]}).sort_values(\n",
    "    [('rating', 'mean')], ascending=False).reset_index()\n",
    "popular_movies.head(n=5)"
   ]
  },
  {
   "cell_type": "markdown",
   "metadata": {},
   "source": [
    "This isn't ideal- these movies that have only one rating are getting really high ratings since one person gave them a five star. That's hardly what popular means! We could apply some sort of algorithm in order to get a better 'popularity' score. The function below is adapted from [Evan Miller's post](http://www.evanmiller.org/how-not-to-sort-by-average-rating.html) on how to get a more accurate rating. "
   ]
  },
  {
   "cell_type": "code",
   "execution_count": 13,
   "metadata": {},
   "outputs": [
    {
     "data": {
      "text/plain": [
       "0.7111690380734976"
      ]
     },
     "execution_count": 13,
     "metadata": {},
     "output_type": "execute_result"
    }
   ],
   "source": [
    "from math import sqrt\n",
    "\n",
    "def wilson_score(num_positive_ratings, num_ratings):\n",
    "    # we'll default to a 95% confidence level\n",
    "    if num_ratings == 0:\n",
    "        return 0\n",
    "    # this is a z score, since we're using a 95% confidence level, z will always be 1.96\n",
    "    z = 1.96\n",
    "    phat = 1.0 * num_positive_ratings / num_ratings\n",
    "    return (phat + z*z/(2*num_ratings) - z * \n",
    "            sqrt((phat*(1-phat)+z*z/(4*num_ratings))/num_ratings))/(1+z*z/num_ratings)\n",
    "    \n",
    "wilson_score(80, 100)"
   ]
  },
  {
   "cell_type": "code",
   "execution_count": 14,
   "metadata": {},
   "outputs": [
    {
     "data": {
      "text/html": [
       "<div>\n",
       "<table border=\"1\" class=\"dataframe\">\n",
       "  <thead>\n",
       "    <tr>\n",
       "      <th></th>\n",
       "      <th>title</th>\n",
       "      <th>wilson score</th>\n",
       "    </tr>\n",
       "    <tr>\n",
       "      <th></th>\n",
       "      <th></th>\n",
       "      <th></th>\n",
       "    </tr>\n",
       "  </thead>\n",
       "  <tbody>\n",
       "    <tr>\n",
       "      <th>119</th>\n",
       "      <td>Seven Samurai (Shichinin no samurai) (1954)</td>\n",
       "      <td>0.838607</td>\n",
       "    </tr>\n",
       "    <tr>\n",
       "      <th>123</th>\n",
       "      <td>Spirited Away (Sen to Chihiro no kamikakushi) ...</td>\n",
       "      <td>0.828371</td>\n",
       "    </tr>\n",
       "    <tr>\n",
       "      <th>78</th>\n",
       "      <td>Laputa: Castle in the Sky (Tenkû no shiro Rapy...</td>\n",
       "      <td>0.824115</td>\n",
       "    </tr>\n",
       "    <tr>\n",
       "      <th>106</th>\n",
       "      <td>Princess Mononoke (Mononoke-hime) (1997)</td>\n",
       "      <td>0.811068</td>\n",
       "    </tr>\n",
       "    <tr>\n",
       "      <th>67</th>\n",
       "      <td>Howl's Moving Castle (Hauru no ugoku shiro) (2...</td>\n",
       "      <td>0.804555</td>\n",
       "    </tr>\n",
       "  </tbody>\n",
       "</table>\n",
       "</div>"
      ],
      "text/plain": [
       "                                                 title wilson score\n",
       "                                                                   \n",
       "119        Seven Samurai (Shichinin no samurai) (1954)     0.838607\n",
       "123  Spirited Away (Sen to Chihiro no kamikakushi) ...     0.828371\n",
       "78   Laputa: Castle in the Sky (Tenkû no shiro Rapy...     0.824115\n",
       "106           Princess Mononoke (Mononoke-hime) (1997)     0.811068\n",
       "67   Howl's Moving Castle (Hauru no ugoku shiro) (2...     0.804555"
      ]
     },
     "execution_count": 14,
     "metadata": {},
     "output_type": "execute_result"
    }
   ],
   "source": [
    "# here's a function to help us determine what a 'positive' rating is\n",
    "def number_positive_ratings(x):\n",
    "    pos = x[x >= 3]\n",
    "    return pos.size\n",
    "    \n",
    "# make our data frame show us the number of positive ratings, as well as number overall ratings \n",
    "# grouped by movie title    \n",
    "grouped_ratings = sole_country_filter.groupby('title').agg({\n",
    "        'rating': [number_positive_ratings, np.size]}).reset_index()\n",
    "\n",
    "# apply the wilson score function now that we have number of positive ratings and number of overall ratings\n",
    "grouped_ratings['wilson score'] = np.vectorize(wilson_score)(grouped_ratings['rating']['number_positive_ratings'], \n",
    "                                                             grouped_ratings['rating']['size'])\n",
    "\n",
    "# let's see what's popular in Japan!\n",
    "grouped_ratings[['title','wilson score']].sort_values('wilson score', ascending=False).head(n=5)\n"
   ]
  },
  {
   "cell_type": "markdown",
   "metadata": {},
   "source": [
    "Nice- this list of movies looks a lot more reasonable. The Wilson Score tells us how confident we are that ratings for this movie is positive. Movies 2-5 in this list are all highly acclaimed Miyazaki movies which even I've heard of before. I had never heard of Seven Samurai, but the [Seven Samurai Wikipedia](https://en.wikipedia.org/wiki/Seven_Samurai) page says:\n",
    "> Since its release, Seven Samurai has consistently ranked highly in critics' lists of the greatest films, such as the BFI's Sight & Sound and Rotten Tomatoes polls. It has remained highly influential, often seen as one of the most \"remade, reworked, referenced\" films in cinema.\n",
    "\n",
    "So it seems like we are indeed getting popular movies back!"
   ]
  },
  {
   "cell_type": "markdown",
   "metadata": {},
   "source": [
    "### Item Similary Recommender\n",
    "Alright, let's move on and try to get some personalization with our recommendations. The next method we are going to use is the Item Similarity Recommender. What this means is that you tell the model the movies you like, and the model will go and try to find the movies that are the most similar to the ones that you liked and return them to you.\n",
    "\n",
    "To create the model, we take in our user ratings file. The model will compute the similarity between movies by associating movies that a user has watched before and enjoyed as similar. The similarity function is often a Cosine or Pearson similarity function.\n",
    "\n",
    "[Ethan Rosenthal's blog post](http://blog.ethanrosenthal.com/2015/11/02/intro-to-collaborative-filtering/) was very helpful in this effort.\n"
   ]
  },
  {
   "cell_type": "code",
   "execution_count": 15,
   "metadata": {},
   "outputs": [
    {
     "name": "stdout",
     "output_type": "stream",
     "text": [
      "Number of unique users: 671\n",
      "Number of unique movies: 9066\n"
     ]
    }
   ],
   "source": [
    "# we'll need some more helper functions \n",
    "from sklearn.metrics.pairwise import pairwise_distances\n",
    "from sklearn.metrics import mean_squared_error\n",
    "\n",
    "num_users = ratings_data.userId.unique().shape[0]\n",
    "num_movies = ratings_data.movieId.unique().shape[0]\n",
    "print \"Number of unique users: %d\" % num_users\n",
    "print \"Number of unique movies: %d\" %num_movies\n"
   ]
  },
  {
   "cell_type": "markdown",
   "metadata": {},
   "source": [
    "The next step is that we need to make a matrix with dimensions num_users x num_movies. This will be our user-item matrix. The idea is that we can fill in the value between a user and an item as the rating the user gave that item, and from there we want to be able to fill in (or predict) the missing ratings.\n",
    "\n",
    "Our matrix is going to be dimension num_users x num_movies. While userId goes from 1 to num_users, the range of num_movies is actually very large, as there are thousands of movies in the Movielens dataset, but since they only included data for users who rated over 20 movies, and because this is their smaller dataset, there are a lot of missing movieIds. So ideally we want a map that goes from 1 to num_movies, where each index maps to a movieId. In other words, we could have movies with IDs ranging from 1 to 999,999 even if there aren't 999,999 movies in the dataset. If there were only two movies in our dataset with movieIds 1 and 999,999, we only want our matrix to be num_users x 2, not num_users x 999,999."
   ]
  },
  {
   "cell_type": "code",
   "execution_count": 16,
   "metadata": {},
   "outputs": [
    {
     "name": "stdout",
     "output_type": "stream",
     "text": [
      "Index 1 maps to movieId 417 in movie_map\n",
      "Index 2 maps to movieId 650 in movie_map\n"
     ]
    }
   ],
   "source": [
    "# function to make a movie map out of our list of movies\n",
    "def get_index_movie_map(data):\n",
    "    movie_map = {}\n",
    "    no_duplicates = data.movieId.unique()\n",
    "    index = 0\n",
    "    for movieId in no_duplicates:\n",
    "        movie_map[movieId] = index\n",
    "        index = index + 1\n",
    "\n",
    "    return movie_map\n",
    "\n",
    "movie_map = get_index_movie_map(ratings_data)\n",
    "print \"Index 1 maps to movieId %d in movie_map\" % movie_map[1]\n",
    "print \"Index 2 maps to movieId %d in movie_map\" % movie_map[2]"
   ]
  },
  {
   "cell_type": "markdown",
   "metadata": {},
   "source": [
    "Nice- now we can make our num_users by num_movies matrix."
   ]
  },
  {
   "cell_type": "code",
   "execution_count": 17,
   "metadata": {},
   "outputs": [
    {
     "name": "stdout",
     "output_type": "stream",
     "text": [
      "(671, 9066)\n"
     ]
    },
    {
     "data": {
      "text/plain": [
       "array([[ 2.5,  3. ,  3. ,  2. ,  4. ,  2. ,  2. ,  0. ,  3.5,  2. ],\n",
       "       [ 0. ,  0. ,  0. ,  0. ,  0. ,  0. ,  0. ,  0. ,  0. ,  0. ],\n",
       "       [ 0. ,  0. ,  0. ,  0. ,  0. ,  0. ,  0. ,  0. ,  0. ,  0. ],\n",
       "       [ 0. ,  0. ,  0. ,  0. ,  0. ,  0. ,  0. ,  0. ,  0. ,  0. ],\n",
       "       [ 0. ,  0. ,  0. ,  0. ,  0. ,  0. ,  0. ,  0. ,  0. ,  0. ],\n",
       "       [ 0. ,  0. ,  0. ,  0. ,  0. ,  0. ,  0. ,  0. ,  0. ,  0. ],\n",
       "       [ 3. ,  0. ,  0. ,  0. ,  0. ,  0. ,  4. ,  0. ,  0. ,  0. ],\n",
       "       [ 0. ,  0. ,  0. ,  0. ,  0. ,  0. ,  0. ,  0. ,  0. ,  0. ],\n",
       "       [ 0. ,  0. ,  0. ,  0. ,  0. ,  0. ,  0. ,  0. ,  0. ,  0. ],\n",
       "       [ 0. ,  0. ,  0. ,  0. ,  0. ,  0. ,  0. ,  0. ,  0. ,  0. ]])"
      ]
     },
     "execution_count": 17,
     "metadata": {},
     "output_type": "execute_result"
    }
   ],
   "source": [
    "# function to create the user-item matrix\n",
    "def get_user_item_matrix(n_users, n_items, data, movie_map):\n",
    "    \"\"\"Returns the user item matrix for a given set of data\"\"\"\n",
    "    matrix = np.zeros((n_users, n_items))\n",
    "    for line in data.itertuples():\n",
    "        matrix[line[1]-1, movie_map[line[2]]] = line[3]\n",
    "\n",
    "    return matrix\n",
    "\n",
    "# matrix for training data\n",
    "train_data_matrix = get_user_item_matrix(num_users, num_movies, training_data, movie_map)\n",
    "# matrix for test data (to use later)\n",
    "test_data_matrix = get_user_item_matrix(num_users, num_movies, test_data, movie_map)\n",
    "print train_data_matrix.shape\n",
    "train_data_matrix[:10, :10]\n",
    "\n",
    "\n"
   ]
  },
  {
   "cell_type": "markdown",
   "metadata": {},
   "source": [
    "Along the y axis of this array we have the users, and along the x axis we have the movie. Most of these are zeros, as expected, since there are far more movies than users- any given user has probably only rated a small percentage of the total number of movies. We should also keep in mind that the zeros in the array are not actually a zero rating- they are just an empty rating.\n",
    "\n",
    "Now we can find our cosine similarities. We can treat each column in the matrix as a vector- how similar two items are is \"depedent upon the ratings given to the items by users who have rated both of them\"[1]\n",
    "\n",
    "![item similarity picture](figures/itembased.png \"Item Similarity Picture\")\n",
    "\n",
    "The equation for cosine similarity [2]:\n",
    "![cosine similarity](figures/cosine_sim.svg \"cosine similarity\")\n",
    "\n",
    "We can implement this as a for loop in Python, but it takes quite a while so instead we'll use [sklearn's pairwise distance function](http://scikit-learn.org/stable/modules/generated/sklearn.metrics.pairwise.pairwise_distances.html).\n",
    "\n",
    "[[1] Carleton CS](http://www.cs.carleton.edu/cs_comps/0607/recommend/recommender/itembased.html)\n",
    "\n",
    "[[2] Cosine similarity wikipedia page](https://en.wikipedia.org/wiki/Cosine_similarity)\n",
    "\n"
   ]
  },
  {
   "cell_type": "code",
   "execution_count": 18,
   "metadata": {},
   "outputs": [
    {
     "name": "stdout",
     "output_type": "stream",
     "text": [
      "(9066, 9066)\n"
     ]
    },
    {
     "data": {
      "text/plain": [
       "array([[ 1.        ,  0.09056634,  0.1951328 ,  0.15563275],\n",
       "       [ 0.09056634,  1.        ,  0.12314943,  0.13291486],\n",
       "       [ 0.1951328 ,  0.12314943,  1.        ,  0.29479334],\n",
       "       [ 0.15563275,  0.13291486,  0.29479334,  1.        ]])"
      ]
     },
     "execution_count": 18,
     "metadata": {},
     "output_type": "execute_result"
    }
   ],
   "source": [
    "item_similarity = 1 - pairwise_distances(train_data_matrix.T, metric='cosine')\n",
    "print item_similarity.shape\n",
    "item_similarity[:4,:4]\n"
   ]
  },
  {
   "cell_type": "markdown",
   "metadata": {},
   "source": [
    "Time to make predictions! In order to make predictions, we use weighted sums.\n",
    "![prediction formula](figures/prediction_formula.jpg \"prediction formula\")[3]\n",
    "\n",
    "In this formula, the $\\sum r(U_i, I_t)$ term is the rating given by user $U$ to item $I$- the sum means it's the sum of all of the similar items. We multiply this term by the similarity to the new user (represented by $NU$) to the user $U$. Then we divide in order to scale the prediction. This formula is basically saying to weigh the new user's rating for each item by its similarity to the target item.\n",
    "\n",
    "[[3] Depaul CS](http://facweb.cs.depaul.edu/mobasher/classes/csc575/assignments/knn-predictions.html)\n"
   ]
  },
  {
   "cell_type": "code",
   "execution_count": 19,
   "metadata": {},
   "outputs": [
    {
     "name": "stdout",
     "output_type": "stream",
     "text": [
      "(671, 9066)\n"
     ]
    },
    {
     "data": {
      "text/plain": [
       "array([[ 0.02239844,  0.01686493,  0.02340005,  0.01911031],\n",
       "       [ 0.0966897 ,  0.0569284 ,  0.07077216,  0.05073234],\n",
       "       [ 0.04460545,  0.02819706,  0.0417272 ,  0.03450233],\n",
       "       [ 0.21692166,  0.22131305,  0.23734185,  0.23076399]])"
      ]
     },
     "execution_count": 19,
     "metadata": {},
     "output_type": "execute_result"
    }
   ],
   "source": [
    "def predict(ratings, similarity):\n",
    "    prediction = ratings.dot(similarity) / np.array([np.abs(similarity).sum(axis=1)])\n",
    "    return prediction\n",
    "    \n",
    "item_prediction = predict(train_data_matrix, item_similarity)\n",
    "print(item_prediction.shape)\n",
    "item_prediction[:4,:4]"
   ]
  },
  {
   "cell_type": "markdown",
   "metadata": {},
   "source": [
    "Wow- we're back to the shape of the matrix we started with (num_users x num_movies) but now we have all of the numbers in the matrix filled in. Now we should test against the test data to see how well we're doing."
   ]
  },
  {
   "cell_type": "code",
   "execution_count": 20,
   "metadata": {},
   "outputs": [
    {
     "name": "stdout",
     "output_type": "stream",
     "text": [
      "Training data RMSE: 3.21547994515\n",
      "Test data RMSE: 3.20090096776\n"
     ]
    }
   ],
   "source": [
    "def rmse(prediction, ground_truth):\n",
    "    prediction = prediction[ground_truth.nonzero()].flatten()\n",
    "    max_prediction_score = max(prediction)\n",
    "    normalized_prediction = [float(i)*5/max_prediction_score for i in prediction]\n",
    "    ground_truth = ground_truth[ground_truth.nonzero()].flatten()\n",
    "    return sqrt(mean_squared_error(normalized_prediction, ground_truth))\n",
    "\n",
    "print \"Training data RMSE: %s\" % str(rmse(item_prediction, train_data_matrix))\n",
    "print \"Test data RMSE: %s\" % str(rmse(item_prediction, test_data_matrix))\n"
   ]
  },
  {
   "cell_type": "markdown",
   "metadata": {},
   "source": [
    "Neat- our training and test RMSE's are pretty close. It's still hard to say intuitively if that means anything though, so let's look at some actual movies."
   ]
  },
  {
   "cell_type": "code",
   "execution_count": 27,
   "metadata": {},
   "outputs": [
    {
     "data": {
      "text/html": [
       "<div>\n",
       "<table border=\"1\" class=\"dataframe\">\n",
       "  <thead>\n",
       "    <tr style=\"text-align: right;\">\n",
       "      <th></th>\n",
       "      <th>movieId</th>\n",
       "      <th>title</th>\n",
       "      <th>genres</th>\n",
       "      <th>country</th>\n",
       "    </tr>\n",
       "  </thead>\n",
       "  <tbody>\n",
       "    <tr>\n",
       "      <th>0</th>\n",
       "      <td>1</td>\n",
       "      <td>Toy Story (1995)</td>\n",
       "      <td>Adventure|Animation|Children|Comedy|Fantasy</td>\n",
       "      <td>USA</td>\n",
       "    </tr>\n",
       "    <tr>\n",
       "      <th>1</th>\n",
       "      <td>3114</td>\n",
       "      <td>Toy Story 2 (1999)</td>\n",
       "      <td>Adventure|Animation|Children|Comedy|Fantasy</td>\n",
       "      <td>USA</td>\n",
       "    </tr>\n",
       "    <tr>\n",
       "      <th>2</th>\n",
       "      <td>1210</td>\n",
       "      <td>Star Wars: Episode VI - Return of the Jedi (1983)</td>\n",
       "      <td>Action|Adventure|Sci-Fi</td>\n",
       "      <td>USA</td>\n",
       "    </tr>\n",
       "    <tr>\n",
       "      <th>3</th>\n",
       "      <td>1270</td>\n",
       "      <td>Back to the Future (1985)</td>\n",
       "      <td>Adventure|Comedy|Sci-Fi</td>\n",
       "      <td>USA</td>\n",
       "    </tr>\n",
       "    <tr>\n",
       "      <th>4</th>\n",
       "      <td>780</td>\n",
       "      <td>Independence Day (a.k.a. ID4) (1996)</td>\n",
       "      <td>Action|Adventure|Sci-Fi|Thriller</td>\n",
       "      <td>USA</td>\n",
       "    </tr>\n",
       "  </tbody>\n",
       "</table>\n",
       "</div>"
      ],
      "text/plain": [
       "   movieId                                              title  \\\n",
       "0        1                                   Toy Story (1995)   \n",
       "1     3114                                 Toy Story 2 (1999)   \n",
       "2     1210  Star Wars: Episode VI - Return of the Jedi (1983)   \n",
       "3     1270                          Back to the Future (1985)   \n",
       "4      780               Independence Day (a.k.a. ID4) (1996)   \n",
       "\n",
       "                                        genres country  \n",
       "0  Adventure|Animation|Children|Comedy|Fantasy     USA  \n",
       "1  Adventure|Animation|Children|Comedy|Fantasy     USA  \n",
       "2                      Action|Adventure|Sci-Fi     USA  \n",
       "3                      Adventure|Comedy|Sci-Fi     USA  \n",
       "4             Action|Adventure|Sci-Fi|Thriller     USA  "
      ]
     },
     "execution_count": 27,
     "metadata": {},
     "output_type": "execute_result"
    }
   ],
   "source": [
    "# function to get the key from the value in the movie map\n",
    "def get_movie_id_from_index(search_id, movie_map):\n",
    "    for index, movie_id in movie_map.iteritems():\n",
    "        if movie_id == search_id:\n",
    "            return index\n",
    "\n",
    "# quick test to make sure our reverse map is working right\n",
    "map_input = 1\n",
    "map_output = movie_map[map_input]\n",
    "assert(get_movie_id_from_index(map_output, movie_map) == map_input)\n",
    "\n",
    "# function to get a list of movies most similar to one movie index. \n",
    "# we have to do a bit of extra processing because of our earlier movie map\n",
    "def top_k_movies(similarity, movie_map, movie_idx, k=5):\n",
    "    adjusted_movie_idx = movie_map[movie_idx]\n",
    "    return [get_movie_id_from_index(x, movie_map) for x in np.argsort(similarity[adjusted_movie_idx,:])[:-k-1:-1]]\n",
    "\n",
    "movie_id = 1 # this is Toy Story\n",
    "top_similar_movies = top_k_movies(item_similarity, movie_map, movie_id, k=5)\n",
    "\n",
    "# display the results in a data frame\n",
    "top_similar_movies_df = pd.DataFrame({'movieId': pd.Series(top_similar_movies)})\n",
    "pd.merge(top_similar_movies_df, movies_data, on='movieId')\n"
   ]
  },
  {
   "cell_type": "markdown",
   "metadata": {},
   "source": [
    "Hey, I'd say that's not bad! Toy Story is for sure very similar to Toy Story 2, and I'd say Shrek and Monsters Inc. are as well. I'm not sure about Independence Day, but overall we can see that we are indeed getting similar movies.\n",
    "\n",
    "Now let's make some actual predictions based on user information."
   ]
  },
  {
   "cell_type": "code",
   "execution_count": 28,
   "metadata": {},
   "outputs": [
    {
     "data": {
      "text/html": [
       "<div>\n",
       "<table border=\"1\" class=\"dataframe\">\n",
       "  <thead>\n",
       "    <tr style=\"text-align: right;\">\n",
       "      <th></th>\n",
       "      <th>movieId</th>\n",
       "      <th>title</th>\n",
       "      <th>rating</th>\n",
       "    </tr>\n",
       "  </thead>\n",
       "  <tbody>\n",
       "    <tr>\n",
       "      <th>0</th>\n",
       "      <td>1</td>\n",
       "      <td>Toy Story</td>\n",
       "      <td>5</td>\n",
       "    </tr>\n",
       "    <tr>\n",
       "      <th>1</th>\n",
       "      <td>123</td>\n",
       "      <td>Chungking Express</td>\n",
       "      <td>4</td>\n",
       "    </tr>\n",
       "    <tr>\n",
       "      <th>2</th>\n",
       "      <td>4144</td>\n",
       "      <td>In the mood for love</td>\n",
       "      <td>5</td>\n",
       "    </tr>\n",
       "    <tr>\n",
       "      <th>3</th>\n",
       "      <td>103141</td>\n",
       "      <td>Monsters University</td>\n",
       "      <td>4</td>\n",
       "    </tr>\n",
       "    <tr>\n",
       "      <th>4</th>\n",
       "      <td>106916</td>\n",
       "      <td>American hustle</td>\n",
       "      <td>3</td>\n",
       "    </tr>\n",
       "    <tr>\n",
       "      <th>5</th>\n",
       "      <td>107141</td>\n",
       "      <td>saving mr banks</td>\n",
       "      <td>3</td>\n",
       "    </tr>\n",
       "    <tr>\n",
       "      <th>6</th>\n",
       "      <td>31658</td>\n",
       "      <td>howl's moving castle</td>\n",
       "      <td>4</td>\n",
       "    </tr>\n",
       "    <tr>\n",
       "      <th>7</th>\n",
       "      <td>81845</td>\n",
       "      <td>king's speech</td>\n",
       "      <td>5</td>\n",
       "    </tr>\n",
       "    <tr>\n",
       "      <th>8</th>\n",
       "      <td>152081</td>\n",
       "      <td>zootopia</td>\n",
       "      <td>5</td>\n",
       "    </tr>\n",
       "    <tr>\n",
       "      <th>9</th>\n",
       "      <td>6942</td>\n",
       "      <td>love actually</td>\n",
       "      <td>4</td>\n",
       "    </tr>\n",
       "    <tr>\n",
       "      <th>10</th>\n",
       "      <td>872</td>\n",
       "      <td>vive l'amour</td>\n",
       "      <td>3</td>\n",
       "    </tr>\n",
       "    <tr>\n",
       "      <th>11</th>\n",
       "      <td>63992</td>\n",
       "      <td>twilight</td>\n",
       "      <td>1</td>\n",
       "    </tr>\n",
       "    <tr>\n",
       "      <th>12</th>\n",
       "      <td>70293</td>\n",
       "      <td>julie and julia</td>\n",
       "      <td>2</td>\n",
       "    </tr>\n",
       "    <tr>\n",
       "      <th>13</th>\n",
       "      <td>80549</td>\n",
       "      <td>easy a</td>\n",
       "      <td>4</td>\n",
       "    </tr>\n",
       "    <tr>\n",
       "      <th>14</th>\n",
       "      <td>446</td>\n",
       "      <td>farewell my concubine</td>\n",
       "      <td>5</td>\n",
       "    </tr>\n",
       "    <tr>\n",
       "      <th>15</th>\n",
       "      <td>60126</td>\n",
       "      <td>get smart</td>\n",
       "      <td>4</td>\n",
       "    </tr>\n",
       "    <tr>\n",
       "      <th>16</th>\n",
       "      <td>63082</td>\n",
       "      <td>slumdog millionaire</td>\n",
       "      <td>5</td>\n",
       "    </tr>\n",
       "    <tr>\n",
       "      <th>17</th>\n",
       "      <td>68793</td>\n",
       "      <td>night at the museum 2</td>\n",
       "      <td>2</td>\n",
       "    </tr>\n",
       "    <tr>\n",
       "      <th>18</th>\n",
       "      <td>68954</td>\n",
       "      <td>up</td>\n",
       "      <td>5</td>\n",
       "    </tr>\n",
       "    <tr>\n",
       "      <th>19</th>\n",
       "      <td>72226</td>\n",
       "      <td>fantastic mr fox</td>\n",
       "      <td>4</td>\n",
       "    </tr>\n",
       "    <tr>\n",
       "      <th>20</th>\n",
       "      <td>76293</td>\n",
       "      <td>date night</td>\n",
       "      <td>3</td>\n",
       "    </tr>\n",
       "  </tbody>\n",
       "</table>\n",
       "</div>"
      ],
      "text/plain": [
       "    movieId                   title  rating\n",
       "0         1               Toy Story       5\n",
       "1       123       Chungking Express       4\n",
       "2      4144    In the mood for love       5\n",
       "3    103141     Monsters University       4\n",
       "4    106916         American hustle       3\n",
       "5    107141         saving mr banks       3\n",
       "6     31658    howl's moving castle       4\n",
       "7     81845           king's speech       5\n",
       "8    152081                zootopia       5\n",
       "9      6942           love actually       4\n",
       "10      872            vive l'amour       3\n",
       "11    63992                twilight       1\n",
       "12    70293         julie and julia       2\n",
       "13    80549                  easy a       4\n",
       "14      446   farewell my concubine       5\n",
       "15    60126               get smart       4\n",
       "16    63082     slumdog millionaire       5\n",
       "17    68793   night at the museum 2       2\n",
       "18    68954                      up       5\n",
       "19    72226        fantastic mr fox       4\n",
       "20    76293              date night       3"
      ]
     },
     "execution_count": 28,
     "metadata": {},
     "output_type": "execute_result"
    }
   ],
   "source": [
    "# function to get a list of movies most similar to one user index. \n",
    "# we have to do a bit of extra processing because of our earlier movie map\n",
    "def top_k_movies_for_user(prediction, movie_map, user_idx, k=5):\n",
    "    return [get_movie_id_from_index(x, movie_map) for x in np.argsort(prediction[user_idx,:])[:-k-1:-1]]\n",
    "\n",
    "my_movie_ratings = pd.read_csv('test-data/my_movie_ratings.csv')\n",
    "my_movie_ratings"
   ]
  },
  {
   "cell_type": "code",
   "execution_count": 23,
   "metadata": {},
   "outputs": [
    {
     "data": {
      "text/html": [
       "<div>\n",
       "<table border=\"1\" class=\"dataframe\">\n",
       "  <thead>\n",
       "    <tr style=\"text-align: right;\">\n",
       "      <th></th>\n",
       "      <th>movieId</th>\n",
       "      <th>rating</th>\n",
       "      <th>userId</th>\n",
       "      <th>timestamp</th>\n",
       "    </tr>\n",
       "  </thead>\n",
       "  <tbody>\n",
       "    <tr>\n",
       "      <th>0</th>\n",
       "      <td>1</td>\n",
       "      <td>5</td>\n",
       "      <td>672</td>\n",
       "      <td>1493440233</td>\n",
       "    </tr>\n",
       "    <tr>\n",
       "      <th>1</th>\n",
       "      <td>123</td>\n",
       "      <td>4</td>\n",
       "      <td>672</td>\n",
       "      <td>1493440233</td>\n",
       "    </tr>\n",
       "    <tr>\n",
       "      <th>2</th>\n",
       "      <td>4144</td>\n",
       "      <td>5</td>\n",
       "      <td>672</td>\n",
       "      <td>1493440233</td>\n",
       "    </tr>\n",
       "    <tr>\n",
       "      <th>3</th>\n",
       "      <td>103141</td>\n",
       "      <td>4</td>\n",
       "      <td>672</td>\n",
       "      <td>1493440233</td>\n",
       "    </tr>\n",
       "    <tr>\n",
       "      <th>4</th>\n",
       "      <td>106916</td>\n",
       "      <td>3</td>\n",
       "      <td>672</td>\n",
       "      <td>1493440233</td>\n",
       "    </tr>\n",
       "    <tr>\n",
       "      <th>5</th>\n",
       "      <td>107141</td>\n",
       "      <td>3</td>\n",
       "      <td>672</td>\n",
       "      <td>1493440233</td>\n",
       "    </tr>\n",
       "    <tr>\n",
       "      <th>6</th>\n",
       "      <td>31658</td>\n",
       "      <td>4</td>\n",
       "      <td>672</td>\n",
       "      <td>1493440233</td>\n",
       "    </tr>\n",
       "    <tr>\n",
       "      <th>7</th>\n",
       "      <td>81845</td>\n",
       "      <td>5</td>\n",
       "      <td>672</td>\n",
       "      <td>1493440233</td>\n",
       "    </tr>\n",
       "    <tr>\n",
       "      <th>8</th>\n",
       "      <td>152081</td>\n",
       "      <td>5</td>\n",
       "      <td>672</td>\n",
       "      <td>1493440233</td>\n",
       "    </tr>\n",
       "    <tr>\n",
       "      <th>9</th>\n",
       "      <td>6942</td>\n",
       "      <td>4</td>\n",
       "      <td>672</td>\n",
       "      <td>1493440233</td>\n",
       "    </tr>\n",
       "    <tr>\n",
       "      <th>10</th>\n",
       "      <td>872</td>\n",
       "      <td>3</td>\n",
       "      <td>672</td>\n",
       "      <td>1493440233</td>\n",
       "    </tr>\n",
       "    <tr>\n",
       "      <th>11</th>\n",
       "      <td>63992</td>\n",
       "      <td>1</td>\n",
       "      <td>672</td>\n",
       "      <td>1493440233</td>\n",
       "    </tr>\n",
       "    <tr>\n",
       "      <th>12</th>\n",
       "      <td>70293</td>\n",
       "      <td>2</td>\n",
       "      <td>672</td>\n",
       "      <td>1493440233</td>\n",
       "    </tr>\n",
       "    <tr>\n",
       "      <th>13</th>\n",
       "      <td>80549</td>\n",
       "      <td>4</td>\n",
       "      <td>672</td>\n",
       "      <td>1493440233</td>\n",
       "    </tr>\n",
       "    <tr>\n",
       "      <th>14</th>\n",
       "      <td>446</td>\n",
       "      <td>5</td>\n",
       "      <td>672</td>\n",
       "      <td>1493440233</td>\n",
       "    </tr>\n",
       "    <tr>\n",
       "      <th>15</th>\n",
       "      <td>60126</td>\n",
       "      <td>4</td>\n",
       "      <td>672</td>\n",
       "      <td>1493440233</td>\n",
       "    </tr>\n",
       "    <tr>\n",
       "      <th>16</th>\n",
       "      <td>63082</td>\n",
       "      <td>5</td>\n",
       "      <td>672</td>\n",
       "      <td>1493440233</td>\n",
       "    </tr>\n",
       "    <tr>\n",
       "      <th>17</th>\n",
       "      <td>68793</td>\n",
       "      <td>2</td>\n",
       "      <td>672</td>\n",
       "      <td>1493440233</td>\n",
       "    </tr>\n",
       "    <tr>\n",
       "      <th>18</th>\n",
       "      <td>68954</td>\n",
       "      <td>5</td>\n",
       "      <td>672</td>\n",
       "      <td>1493440233</td>\n",
       "    </tr>\n",
       "    <tr>\n",
       "      <th>19</th>\n",
       "      <td>72226</td>\n",
       "      <td>4</td>\n",
       "      <td>672</td>\n",
       "      <td>1493440233</td>\n",
       "    </tr>\n",
       "    <tr>\n",
       "      <th>20</th>\n",
       "      <td>76293</td>\n",
       "      <td>3</td>\n",
       "      <td>672</td>\n",
       "      <td>1493440233</td>\n",
       "    </tr>\n",
       "  </tbody>\n",
       "</table>\n",
       "</div>"
      ],
      "text/plain": [
       "    movieId  rating  userId   timestamp\n",
       "0         1       5     672  1493440233\n",
       "1       123       4     672  1493440233\n",
       "2      4144       5     672  1493440233\n",
       "3    103141       4     672  1493440233\n",
       "4    106916       3     672  1493440233\n",
       "5    107141       3     672  1493440233\n",
       "6     31658       4     672  1493440233\n",
       "7     81845       5     672  1493440233\n",
       "8    152081       5     672  1493440233\n",
       "9      6942       4     672  1493440233\n",
       "10      872       3     672  1493440233\n",
       "11    63992       1     672  1493440233\n",
       "12    70293       2     672  1493440233\n",
       "13    80549       4     672  1493440233\n",
       "14      446       5     672  1493440233\n",
       "15    60126       4     672  1493440233\n",
       "16    63082       5     672  1493440233\n",
       "17    68793       2     672  1493440233\n",
       "18    68954       5     672  1493440233\n",
       "19    72226       4     672  1493440233\n",
       "20    76293       3     672  1493440233"
      ]
     },
     "execution_count": 23,
     "metadata": {},
     "output_type": "execute_result"
    }
   ],
   "source": [
    "from calendar import timegm\n",
    "from datetime import datetime\n",
    "\n",
    "def prepare_new_user_data(new_data, ratings_data):\n",
    "    # get rid of the title column in my data- just put that there for readability\n",
    "    prepared_data = new_data.drop('title', axis=1)\n",
    "    new_user_id = ratings_data['userId'].unique().shape[0] + 1\n",
    "    prepared_data['userId'] = new_user_id\n",
    "    current_time = timegm(datetime.utcnow().utctimetuple())\n",
    "    prepared_data['timestamp'] = current_time\n",
    "    return prepared_data\n",
    "\n",
    "prepared_data = prepare_new_user_data(my_movie_ratings, ratings_data)\n",
    "prepared_data"
   ]
  },
  {
   "cell_type": "markdown",
   "metadata": {},
   "source": [
    "Now that we have prepared my new ratings, we go through the same thing as before. This will be a good review of how we put everything together!"
   ]
  },
  {
   "cell_type": "code",
   "execution_count": 29,
   "metadata": {},
   "outputs": [
    {
     "data": {
      "text/html": [
       "<div>\n",
       "<table border=\"1\" class=\"dataframe\">\n",
       "  <thead>\n",
       "    <tr style=\"text-align: right;\">\n",
       "      <th></th>\n",
       "      <th>movieId</th>\n",
       "      <th>title</th>\n",
       "      <th>genres</th>\n",
       "      <th>country</th>\n",
       "    </tr>\n",
       "  </thead>\n",
       "  <tbody>\n",
       "    <tr>\n",
       "      <th>0</th>\n",
       "      <td>6425</td>\n",
       "      <td>6th Man, The (Sixth Man, The) (1997)</td>\n",
       "      <td>Comedy</td>\n",
       "      <td>USA</td>\n",
       "    </tr>\n",
       "    <tr>\n",
       "      <th>1</th>\n",
       "      <td>4054</td>\n",
       "      <td>Save the Last Dance (2001)</td>\n",
       "      <td>Drama|Romance</td>\n",
       "      <td>USA</td>\n",
       "    </tr>\n",
       "    <tr>\n",
       "      <th>2</th>\n",
       "      <td>4114</td>\n",
       "      <td>Good Morning, Babylon (1987)</td>\n",
       "      <td>Drama</td>\n",
       "      <td>Italy|France|USA</td>\n",
       "    </tr>\n",
       "    <tr>\n",
       "      <th>3</th>\n",
       "      <td>3677</td>\n",
       "      <td>Baraka (1992)</td>\n",
       "      <td>Documentary</td>\n",
       "      <td>USA</td>\n",
       "    </tr>\n",
       "    <tr>\n",
       "      <th>4</th>\n",
       "      <td>2131</td>\n",
       "      <td>Autumn Sonata (Höstsonaten) (1978)</td>\n",
       "      <td>Drama</td>\n",
       "      <td>France|West Germany|Sweden|UK</td>\n",
       "    </tr>\n",
       "    <tr>\n",
       "      <th>5</th>\n",
       "      <td>2092</td>\n",
       "      <td>Return of Jafar, The (1994)</td>\n",
       "      <td>Adventure|Animation|Children|Fantasy|Musical|R...</td>\n",
       "      <td>USA</td>\n",
       "    </tr>\n",
       "    <tr>\n",
       "      <th>6</th>\n",
       "      <td>2075</td>\n",
       "      <td>Mephisto (1981)</td>\n",
       "      <td>Drama|War</td>\n",
       "      <td>West Germany|Hungary|Austria</td>\n",
       "    </tr>\n",
       "    <tr>\n",
       "      <th>7</th>\n",
       "      <td>4069</td>\n",
       "      <td>Wedding Planner, The (2001)</td>\n",
       "      <td>Comedy|Romance</td>\n",
       "      <td>Germany|USA</td>\n",
       "    </tr>\n",
       "    <tr>\n",
       "      <th>8</th>\n",
       "      <td>3564</td>\n",
       "      <td>Flintstones in Viva Rock Vegas, The (2000)</td>\n",
       "      <td>Children|Comedy</td>\n",
       "      <td>USA</td>\n",
       "    </tr>\n",
       "    <tr>\n",
       "      <th>9</th>\n",
       "      <td>4862</td>\n",
       "      <td>Not Without My Daughter (1991)</td>\n",
       "      <td>Drama</td>\n",
       "      <td>USA</td>\n",
       "    </tr>\n",
       "  </tbody>\n",
       "</table>\n",
       "</div>"
      ],
      "text/plain": [
       "   movieId                                       title  \\\n",
       "0     6425        6th Man, The (Sixth Man, The) (1997)   \n",
       "1     4054                  Save the Last Dance (2001)   \n",
       "2     4114                Good Morning, Babylon (1987)   \n",
       "3     3677                               Baraka (1992)   \n",
       "4     2131          Autumn Sonata (Höstsonaten) (1978)   \n",
       "5     2092                 Return of Jafar, The (1994)   \n",
       "6     2075                             Mephisto (1981)   \n",
       "7     4069                 Wedding Planner, The (2001)   \n",
       "8     3564  Flintstones in Viva Rock Vegas, The (2000)   \n",
       "9     4862              Not Without My Daughter (1991)   \n",
       "\n",
       "                                              genres  \\\n",
       "0                                             Comedy   \n",
       "1                                      Drama|Romance   \n",
       "2                                              Drama   \n",
       "3                                        Documentary   \n",
       "4                                              Drama   \n",
       "5  Adventure|Animation|Children|Fantasy|Musical|R...   \n",
       "6                                          Drama|War   \n",
       "7                                     Comedy|Romance   \n",
       "8                                    Children|Comedy   \n",
       "9                                              Drama   \n",
       "\n",
       "                         country  \n",
       "0                            USA  \n",
       "1                            USA  \n",
       "2               Italy|France|USA  \n",
       "3                            USA  \n",
       "4  France|West Germany|Sweden|UK  \n",
       "5                            USA  \n",
       "6   West Germany|Hungary|Austria  \n",
       "7                    Germany|USA  \n",
       "8                            USA  \n",
       "9                            USA  "
      ]
     },
     "execution_count": 29,
     "metadata": {},
     "output_type": "execute_result"
    }
   ],
   "source": [
    "# first append my data to the overall data. we'll use the entire data set this time\n",
    "additional_data = ratings_data.append(prepared_data)\n",
    "\n",
    "# create our user item matrix but add one to the number of users for me\n",
    "additional_data_matrix = get_user_item_matrix(num_users+1, num_movies, ratings_data, movie_map)\n",
    "\n",
    "# find the similarity matrix\n",
    "additional_data_item_similarity = 1 - pairwise_distances(additional_data_matrix.T, metric='cosine')\n",
    "\n",
    "# create the prediction matrix\n",
    "additional_data_prediction = predict(additional_data_matrix, additional_data_item_similarity)\n",
    "\n",
    "# find the top movies from the prediction matrix\n",
    "my_index = 672 - 1 # matrix is index 0\n",
    "my_top_movies = top_k_movies_for_user(additional_data_prediction, movie_map, my_index, k=num_movies)\n",
    "\n",
    "# display the results in a data frame\n",
    "my_top_movies_df = pd.DataFrame({'movieId': pd.Series(my_top_movies)})\n",
    "my_results = pd.merge(my_top_movies_df, movies_data, on='movieId')\n",
    "\n",
    "# output\n",
    "my_results.head(n=10)"
   ]
  },
  {
   "cell_type": "code",
   "execution_count": 31,
   "metadata": {},
   "outputs": [
    {
     "data": {
      "text/html": [
       "<div>\n",
       "<table border=\"1\" class=\"dataframe\">\n",
       "  <thead>\n",
       "    <tr style=\"text-align: right;\">\n",
       "      <th></th>\n",
       "      <th>movieId</th>\n",
       "      <th>title</th>\n",
       "      <th>genres</th>\n",
       "      <th>country</th>\n",
       "    </tr>\n",
       "  </thead>\n",
       "  <tbody>\n",
       "    <tr>\n",
       "      <th>145</th>\n",
       "      <td>5534</td>\n",
       "      <td>Hush! (2001)</td>\n",
       "      <td>Drama</td>\n",
       "      <td>Japan</td>\n",
       "    </tr>\n",
       "    <tr>\n",
       "      <th>310</th>\n",
       "      <td>107953</td>\n",
       "      <td>Dragon Ball Z: Battle of Gods (2013)</td>\n",
       "      <td>Action|Animation|Fantasy|IMAX</td>\n",
       "      <td>Japan</td>\n",
       "    </tr>\n",
       "    <tr>\n",
       "      <th>338</th>\n",
       "      <td>83132</td>\n",
       "      <td>Secret World of Arrietty, The (Kari-gurashi no...</td>\n",
       "      <td>Animation|Children|Fantasy</td>\n",
       "      <td>Japan</td>\n",
       "    </tr>\n",
       "    <tr>\n",
       "      <th>341</th>\n",
       "      <td>84187</td>\n",
       "      <td>Evangelion: 2.0 You Can (Not) Advance (Evanger...</td>\n",
       "      <td>Action|Animation|Drama|Sci-Fi</td>\n",
       "      <td>Japan</td>\n",
       "    </tr>\n",
       "    <tr>\n",
       "      <th>344</th>\n",
       "      <td>84952</td>\n",
       "      <td>Confessions (Kokuhaku) (2010)</td>\n",
       "      <td>Drama|Horror</td>\n",
       "      <td>Japan</td>\n",
       "    </tr>\n",
       "  </tbody>\n",
       "</table>\n",
       "</div>"
      ],
      "text/plain": [
       "     movieId                                              title  \\\n",
       "145     5534                                       Hush! (2001)   \n",
       "310   107953               Dragon Ball Z: Battle of Gods (2013)   \n",
       "338    83132  Secret World of Arrietty, The (Kari-gurashi no...   \n",
       "341    84187  Evangelion: 2.0 You Can (Not) Advance (Evanger...   \n",
       "344    84952                      Confessions (Kokuhaku) (2010)   \n",
       "\n",
       "                            genres country  \n",
       "145                          Drama   Japan  \n",
       "310  Action|Animation|Fantasy|IMAX   Japan  \n",
       "338     Animation|Children|Fantasy   Japan  \n",
       "341  Action|Animation|Drama|Sci-Fi   Japan  \n",
       "344                   Drama|Horror   Japan  "
      ]
     },
     "execution_count": 31,
     "metadata": {},
     "output_type": "execute_result"
    }
   ],
   "source": [
    "# and if we only recommend movies from the indicated country...\n",
    "my_results.loc[my_results['country']==country].head()"
   ]
  },
  {
   "cell_type": "markdown",
   "metadata": {},
   "source": [
    "Would I like these movies? I'm not sure, mostly because I haven't seen any of them before. So I can't say whether or not these results are satisfying, but hopefully with the low difference between training and test RMSEs as well as proof that we get similar movies from Toy Story, I've shown a bit how we've learned to recommend similar items."
   ]
  },
  {
   "cell_type": "markdown",
   "metadata": {},
   "source": [
    "I implemented this using the libraries we have already been using, but building the model proved pretty memory intensive on my computer, even with Movielens's smaller dataset. If you're interested, the code can be found in my github and was based largely off of [Ethan Rosenthal's blog](http://blog.ethanrosenthal.com/2015/11/02/intro-to-collaborative-filtering/). \n",
    "\n",
    "I decided to look into other libraries that would be more powerful and efficient and came across [Graphlab](https://turi.com/). Graphlab is particularly good for large data sets that need efficient distributed and parallel algorithms- sounds perfect for our needs! It also makes model creation very easy and on a high level, similar to what you might see from Microsoft Azure but without the UI."
   ]
  },
  {
   "cell_type": "code",
   "execution_count": 32,
   "metadata": {},
   "outputs": [
    {
     "name": "stdout",
     "output_type": "stream",
     "text": [
      "This non-commercial license of GraphLab Create for academic use is assigned to ajking@bu.edu and will expire on March 26, 2018.\n"
     ]
    },
    {
     "name": "stderr",
     "output_type": "stream",
     "text": [
      "[INFO] graphlab.cython.cy_server: GraphLab Create v2.1 started. Logging: /tmp/graphlab_server_1493440419.log\n"
     ]
    },
    {
     "data": {
      "text/html": [
       "<pre>Recsys training: model = item_similarity</pre>"
      ],
      "text/plain": [
       "Recsys training: model = item_similarity"
      ]
     },
     "metadata": {},
     "output_type": "display_data"
    },
    {
     "data": {
      "text/html": [
       "<pre>Warning: Ignoring columns timestamp;</pre>"
      ],
      "text/plain": [
       "Warning: Ignoring columns timestamp;"
      ]
     },
     "metadata": {},
     "output_type": "display_data"
    },
    {
     "data": {
      "text/html": [
       "<pre>    To use these columns in scoring predictions, use a model that allows the use of additional features.</pre>"
      ],
      "text/plain": [
       "    To use these columns in scoring predictions, use a model that allows the use of additional features."
      ]
     },
     "metadata": {},
     "output_type": "display_data"
    },
    {
     "data": {
      "text/html": [
       "<pre>Preparing data set.</pre>"
      ],
      "text/plain": [
       "Preparing data set."
      ]
     },
     "metadata": {},
     "output_type": "display_data"
    },
    {
     "data": {
      "text/html": [
       "<pre>    Data has 80003 observations with 671 users and 8391 items.</pre>"
      ],
      "text/plain": [
       "    Data has 80003 observations with 671 users and 8391 items."
      ]
     },
     "metadata": {},
     "output_type": "display_data"
    },
    {
     "data": {
      "text/html": [
       "<pre>    Data prepared in: 0.144341s</pre>"
      ],
      "text/plain": [
       "    Data prepared in: 0.144341s"
      ]
     },
     "metadata": {},
     "output_type": "display_data"
    },
    {
     "data": {
      "text/html": [
       "<pre>Training model from provided data.</pre>"
      ],
      "text/plain": [
       "Training model from provided data."
      ]
     },
     "metadata": {},
     "output_type": "display_data"
    },
    {
     "data": {
      "text/html": [
       "<pre>Gathering per-item and per-user statistics.</pre>"
      ],
      "text/plain": [
       "Gathering per-item and per-user statistics."
      ]
     },
     "metadata": {},
     "output_type": "display_data"
    },
    {
     "data": {
      "text/html": [
       "<pre>+--------------------------------+------------+</pre>"
      ],
      "text/plain": [
       "+--------------------------------+------------+"
      ]
     },
     "metadata": {},
     "output_type": "display_data"
    },
    {
     "data": {
      "text/html": [
       "<pre>| Elapsed Time (Item Statistics) | % Complete |</pre>"
      ],
      "text/plain": [
       "| Elapsed Time (Item Statistics) | % Complete |"
      ]
     },
     "metadata": {},
     "output_type": "display_data"
    },
    {
     "data": {
      "text/html": [
       "<pre>+--------------------------------+------------+</pre>"
      ],
      "text/plain": [
       "+--------------------------------+------------+"
      ]
     },
     "metadata": {},
     "output_type": "display_data"
    },
    {
     "data": {
      "text/html": [
       "<pre>| 10.715ms                       | 100        |</pre>"
      ],
      "text/plain": [
       "| 10.715ms                       | 100        |"
      ]
     },
     "metadata": {},
     "output_type": "display_data"
    },
    {
     "data": {
      "text/html": [
       "<pre>+--------------------------------+------------+</pre>"
      ],
      "text/plain": [
       "+--------------------------------+------------+"
      ]
     },
     "metadata": {},
     "output_type": "display_data"
    },
    {
     "data": {
      "text/html": [
       "<pre>Setting up lookup tables.</pre>"
      ],
      "text/plain": [
       "Setting up lookup tables."
      ]
     },
     "metadata": {},
     "output_type": "display_data"
    },
    {
     "data": {
      "text/html": [
       "<pre>Processing data in one pass using dense lookup tables.</pre>"
      ],
      "text/plain": [
       "Processing data in one pass using dense lookup tables."
      ]
     },
     "metadata": {},
     "output_type": "display_data"
    },
    {
     "data": {
      "text/html": [
       "<pre>+-------------------------------------+------------------+-----------------+</pre>"
      ],
      "text/plain": [
       "+-------------------------------------+------------------+-----------------+"
      ]
     },
     "metadata": {},
     "output_type": "display_data"
    },
    {
     "data": {
      "text/html": [
       "<pre>| Elapsed Time (Constructing Lookups) | Total % Complete | Items Processed |</pre>"
      ],
      "text/plain": [
       "| Elapsed Time (Constructing Lookups) | Total % Complete | Items Processed |"
      ]
     },
     "metadata": {},
     "output_type": "display_data"
    },
    {
     "data": {
      "text/html": [
       "<pre>+-------------------------------------+------------------+-----------------+</pre>"
      ],
      "text/plain": [
       "+-------------------------------------+------------------+-----------------+"
      ]
     },
     "metadata": {},
     "output_type": "display_data"
    },
    {
     "data": {
      "text/html": [
       "<pre>| 259.851ms                           | 0.25             | 41              |</pre>"
      ],
      "text/plain": [
       "| 259.851ms                           | 0.25             | 41              |"
      ]
     },
     "metadata": {},
     "output_type": "display_data"
    },
    {
     "data": {
      "text/html": [
       "<pre>| 1.25s                               | 100              | 8391            |</pre>"
      ],
      "text/plain": [
       "| 1.25s                               | 100              | 8391            |"
      ]
     },
     "metadata": {},
     "output_type": "display_data"
    },
    {
     "data": {
      "text/html": [
       "<pre>+-------------------------------------+------------------+-----------------+</pre>"
      ],
      "text/plain": [
       "+-------------------------------------+------------------+-----------------+"
      ]
     },
     "metadata": {},
     "output_type": "display_data"
    },
    {
     "data": {
      "text/html": [
       "<pre>Finalizing lookup tables.</pre>"
      ],
      "text/plain": [
       "Finalizing lookup tables."
      ]
     },
     "metadata": {},
     "output_type": "display_data"
    },
    {
     "data": {
      "text/html": [
       "<pre>Generating candidate set for working with new users.</pre>"
      ],
      "text/plain": [
       "Generating candidate set for working with new users."
      ]
     },
     "metadata": {},
     "output_type": "display_data"
    },
    {
     "data": {
      "text/html": [
       "<pre>Finished training in 2.2838s</pre>"
      ],
      "text/plain": [
       "Finished training in 2.2838s"
      ]
     },
     "metadata": {},
     "output_type": "display_data"
    }
   ],
   "source": [
    "import graphlab as gl\n",
    "\n",
    "# Graphlab uses SFrames instead of Pandas data frames, but the conversion is easy.\n",
    "# we have training_data as a pandas dframe so...\n",
    "training_data_gl = gl.SFrame(training_data)\n",
    "\n",
    "# making a model in graphlab is as easy as...\n",
    "item_similarity_recommender = gl.item_similarity_recommender.create(training_data_gl, user_id='userId', \n",
    "                                                                    item_id='movieId', target='rating', \n",
    "                                                                    similarity_type='cosine')"
   ]
  },
  {
   "cell_type": "markdown",
   "metadata": {
    "collapsed": true
   },
   "source": [
    "Nice- training only took a few seconds. Let's make some recommendations now."
   ]
  },
  {
   "cell_type": "code",
   "execution_count": 33,
   "metadata": {},
   "outputs": [
    {
     "data": {
      "text/html": [
       "<div style=\"max-height:1000px;max-width:1500px;overflow:auto;\"><table frame=\"box\" rules=\"cols\">\n",
       "    <tr>\n",
       "        <th style=\"padding-left: 1em; padding-right: 1em; text-align: center\">userId</th>\n",
       "        <th style=\"padding-left: 1em; padding-right: 1em; text-align: center\">movieId</th>\n",
       "        <th style=\"padding-left: 1em; padding-right: 1em; text-align: center\">score</th>\n",
       "        <th style=\"padding-left: 1em; padding-right: 1em; text-align: center\">rank</th>\n",
       "    </tr>\n",
       "    <tr>\n",
       "        <td style=\"padding-left: 1em; padding-right: 1em; text-align: center; vertical-align: top\">1</td>\n",
       "        <td style=\"padding-left: 1em; padding-right: 1em; text-align: center; vertical-align: top\">1282</td>\n",
       "        <td style=\"padding-left: 1em; padding-right: 1em; text-align: center; vertical-align: top\">0.399928754882</td>\n",
       "        <td style=\"padding-left: 1em; padding-right: 1em; text-align: center; vertical-align: top\">1</td>\n",
       "    </tr>\n",
       "    <tr>\n",
       "        <td style=\"padding-left: 1em; padding-right: 1em; text-align: center; vertical-align: top\">1</td>\n",
       "        <td style=\"padding-left: 1em; padding-right: 1em; text-align: center; vertical-align: top\">2407</td>\n",
       "        <td style=\"padding-left: 1em; padding-right: 1em; text-align: center; vertical-align: top\">0.368955445917</td>\n",
       "        <td style=\"padding-left: 1em; padding-right: 1em; text-align: center; vertical-align: top\">2</td>\n",
       "    </tr>\n",
       "    <tr>\n",
       "        <td style=\"padding-left: 1em; padding-right: 1em; text-align: center; vertical-align: top\">1</td>\n",
       "        <td style=\"padding-left: 1em; padding-right: 1em; text-align: center; vertical-align: top\">2140</td>\n",
       "        <td style=\"padding-left: 1em; padding-right: 1em; text-align: center; vertical-align: top\">0.296532411324</td>\n",
       "        <td style=\"padding-left: 1em; padding-right: 1em; text-align: center; vertical-align: top\">3</td>\n",
       "    </tr>\n",
       "    <tr>\n",
       "        <td style=\"padding-left: 1em; padding-right: 1em; text-align: center; vertical-align: top\">1</td>\n",
       "        <td style=\"padding-left: 1em; padding-right: 1em; text-align: center; vertical-align: top\">3504</td>\n",
       "        <td style=\"padding-left: 1em; padding-right: 1em; text-align: center; vertical-align: top\">0.294317697224</td>\n",
       "        <td style=\"padding-left: 1em; padding-right: 1em; text-align: center; vertical-align: top\">4</td>\n",
       "    </tr>\n",
       "    <tr>\n",
       "        <td style=\"padding-left: 1em; padding-right: 1em; text-align: center; vertical-align: top\">1</td>\n",
       "        <td style=\"padding-left: 1em; padding-right: 1em; text-align: center; vertical-align: top\">2985</td>\n",
       "        <td style=\"padding-left: 1em; padding-right: 1em; text-align: center; vertical-align: top\">0.276162034587</td>\n",
       "        <td style=\"padding-left: 1em; padding-right: 1em; text-align: center; vertical-align: top\">5</td>\n",
       "    </tr>\n",
       "    <tr>\n",
       "        <td style=\"padding-left: 1em; padding-right: 1em; text-align: center; vertical-align: top\">2</td>\n",
       "        <td style=\"padding-left: 1em; padding-right: 1em; text-align: center; vertical-align: top\">597</td>\n",
       "        <td style=\"padding-left: 1em; padding-right: 1em; text-align: center; vertical-align: top\">0.967056462541</td>\n",
       "        <td style=\"padding-left: 1em; padding-right: 1em; text-align: center; vertical-align: top\">1</td>\n",
       "    </tr>\n",
       "    <tr>\n",
       "        <td style=\"padding-left: 1em; padding-right: 1em; text-align: center; vertical-align: top\">2</td>\n",
       "        <td style=\"padding-left: 1em; padding-right: 1em; text-align: center; vertical-align: top\">380</td>\n",
       "        <td style=\"padding-left: 1em; padding-right: 1em; text-align: center; vertical-align: top\">0.943870854564</td>\n",
       "        <td style=\"padding-left: 1em; padding-right: 1em; text-align: center; vertical-align: top\">2</td>\n",
       "    </tr>\n",
       "    <tr>\n",
       "        <td style=\"padding-left: 1em; padding-right: 1em; text-align: center; vertical-align: top\">2</td>\n",
       "        <td style=\"padding-left: 1em; padding-right: 1em; text-align: center; vertical-align: top\">595</td>\n",
       "        <td style=\"padding-left: 1em; padding-right: 1em; text-align: center; vertical-align: top\">0.864599918015</td>\n",
       "        <td style=\"padding-left: 1em; padding-right: 1em; text-align: center; vertical-align: top\">3</td>\n",
       "    </tr>\n",
       "    <tr>\n",
       "        <td style=\"padding-left: 1em; padding-right: 1em; text-align: center; vertical-align: top\">2</td>\n",
       "        <td style=\"padding-left: 1em; padding-right: 1em; text-align: center; vertical-align: top\">292</td>\n",
       "        <td style=\"padding-left: 1em; padding-right: 1em; text-align: center; vertical-align: top\">0.827390409075</td>\n",
       "        <td style=\"padding-left: 1em; padding-right: 1em; text-align: center; vertical-align: top\">4</td>\n",
       "    </tr>\n",
       "    <tr>\n",
       "        <td style=\"padding-left: 1em; padding-right: 1em; text-align: center; vertical-align: top\">2</td>\n",
       "        <td style=\"padding-left: 1em; padding-right: 1em; text-align: center; vertical-align: top\">296</td>\n",
       "        <td style=\"padding-left: 1em; padding-right: 1em; text-align: center; vertical-align: top\">0.774405970238</td>\n",
       "        <td style=\"padding-left: 1em; padding-right: 1em; text-align: center; vertical-align: top\">5</td>\n",
       "    </tr>\n",
       "</table>\n",
       "[10 rows x 4 columns]<br/>\n",
       "</div>"
      ],
      "text/plain": [
       "Columns:\n",
       "\tuserId\tint\n",
       "\tmovieId\tint\n",
       "\tscore\tfloat\n",
       "\trank\tint\n",
       "\n",
       "Rows: 10\n",
       "\n",
       "Data:\n",
       "+--------+---------+----------------+------+\n",
       "| userId | movieId |     score      | rank |\n",
       "+--------+---------+----------------+------+\n",
       "|   1    |   1282  | 0.399928754882 |  1   |\n",
       "|   1    |   2407  | 0.368955445917 |  2   |\n",
       "|   1    |   2140  | 0.296532411324 |  3   |\n",
       "|   1    |   3504  | 0.294317697224 |  4   |\n",
       "|   1    |   2985  | 0.276162034587 |  5   |\n",
       "|   2    |   597   | 0.967056462541 |  1   |\n",
       "|   2    |   380   | 0.943870854564 |  2   |\n",
       "|   2    |   595   | 0.864599918015 |  3   |\n",
       "|   2    |   292   | 0.827390409075 |  4   |\n",
       "|   2    |   296   | 0.774405970238 |  5   |\n",
       "+--------+---------+----------------+------+\n",
       "[10 rows x 4 columns]"
      ]
     },
     "execution_count": 33,
     "metadata": {},
     "output_type": "execute_result"
    }
   ],
   "source": [
    "movies_data_gl = gl.SFrame(movies_data)\n",
    "\n",
    "recommendations_two_users = item_similarity_recommender.recommend(users=[1,2], k=5)\n",
    "recommendations_two_users.head()"
   ]
  },
  {
   "cell_type": "markdown",
   "metadata": {},
   "source": [
    "This isn't very informative- let's JOIN these with the movie titles to find out which movies we are talking about."
   ]
  },
  {
   "cell_type": "code",
   "execution_count": 34,
   "metadata": {},
   "outputs": [
    {
     "data": {
      "text/html": [
       "<div style=\"max-height:1000px;max-width:1500px;overflow:auto;\"><table frame=\"box\" rules=\"cols\">\n",
       "    <tr>\n",
       "        <th style=\"padding-left: 1em; padding-right: 1em; text-align: center\">userId</th>\n",
       "        <th style=\"padding-left: 1em; padding-right: 1em; text-align: center\">movieId</th>\n",
       "        <th style=\"padding-left: 1em; padding-right: 1em; text-align: center\">score</th>\n",
       "        <th style=\"padding-left: 1em; padding-right: 1em; text-align: center\">rank</th>\n",
       "        <th style=\"padding-left: 1em; padding-right: 1em; text-align: center\">title</th>\n",
       "        <th style=\"padding-left: 1em; padding-right: 1em; text-align: center\">genres</th>\n",
       "        <th style=\"padding-left: 1em; padding-right: 1em; text-align: center\">country</th>\n",
       "    </tr>\n",
       "    <tr>\n",
       "        <td style=\"padding-left: 1em; padding-right: 1em; text-align: center; vertical-align: top\">1</td>\n",
       "        <td style=\"padding-left: 1em; padding-right: 1em; text-align: center; vertical-align: top\">1282</td>\n",
       "        <td style=\"padding-left: 1em; padding-right: 1em; text-align: center; vertical-align: top\">0.399928754882</td>\n",
       "        <td style=\"padding-left: 1em; padding-right: 1em; text-align: center; vertical-align: top\">1</td>\n",
       "        <td style=\"padding-left: 1em; padding-right: 1em; text-align: center; vertical-align: top\">Fantasia (1940)</td>\n",
       "        <td style=\"padding-left: 1em; padding-right: 1em; text-align: center; vertical-align: top\">Animation|Children|Fantas<br>y|Musical ...</td>\n",
       "        <td style=\"padding-left: 1em; padding-right: 1em; text-align: center; vertical-align: top\">USA</td>\n",
       "    </tr>\n",
       "    <tr>\n",
       "        <td style=\"padding-left: 1em; padding-right: 1em; text-align: center; vertical-align: top\">1</td>\n",
       "        <td style=\"padding-left: 1em; padding-right: 1em; text-align: center; vertical-align: top\">2407</td>\n",
       "        <td style=\"padding-left: 1em; padding-right: 1em; text-align: center; vertical-align: top\">0.368955445917</td>\n",
       "        <td style=\"padding-left: 1em; padding-right: 1em; text-align: center; vertical-align: top\">2</td>\n",
       "        <td style=\"padding-left: 1em; padding-right: 1em; text-align: center; vertical-align: top\">Cocoon (1985)</td>\n",
       "        <td style=\"padding-left: 1em; padding-right: 1em; text-align: center; vertical-align: top\">Comedy|Sci-Fi</td>\n",
       "        <td style=\"padding-left: 1em; padding-right: 1em; text-align: center; vertical-align: top\">USA</td>\n",
       "    </tr>\n",
       "    <tr>\n",
       "        <td style=\"padding-left: 1em; padding-right: 1em; text-align: center; vertical-align: top\">1</td>\n",
       "        <td style=\"padding-left: 1em; padding-right: 1em; text-align: center; vertical-align: top\">2140</td>\n",
       "        <td style=\"padding-left: 1em; padding-right: 1em; text-align: center; vertical-align: top\">0.296532411324</td>\n",
       "        <td style=\"padding-left: 1em; padding-right: 1em; text-align: center; vertical-align: top\">3</td>\n",
       "        <td style=\"padding-left: 1em; padding-right: 1em; text-align: center; vertical-align: top\">Dark Crystal, The (1982)</td>\n",
       "        <td style=\"padding-left: 1em; padding-right: 1em; text-align: center; vertical-align: top\">Adventure|Fantasy</td>\n",
       "        <td style=\"padding-left: 1em; padding-right: 1em; text-align: center; vertical-align: top\">USA|UK</td>\n",
       "    </tr>\n",
       "    <tr>\n",
       "        <td style=\"padding-left: 1em; padding-right: 1em; text-align: center; vertical-align: top\">1</td>\n",
       "        <td style=\"padding-left: 1em; padding-right: 1em; text-align: center; vertical-align: top\">3504</td>\n",
       "        <td style=\"padding-left: 1em; padding-right: 1em; text-align: center; vertical-align: top\">0.294317697224</td>\n",
       "        <td style=\"padding-left: 1em; padding-right: 1em; text-align: center; vertical-align: top\">4</td>\n",
       "        <td style=\"padding-left: 1em; padding-right: 1em; text-align: center; vertical-align: top\">Network (1976)</td>\n",
       "        <td style=\"padding-left: 1em; padding-right: 1em; text-align: center; vertical-align: top\">Comedy|Drama</td>\n",
       "        <td style=\"padding-left: 1em; padding-right: 1em; text-align: center; vertical-align: top\">USA</td>\n",
       "    </tr>\n",
       "    <tr>\n",
       "        <td style=\"padding-left: 1em; padding-right: 1em; text-align: center; vertical-align: top\">1</td>\n",
       "        <td style=\"padding-left: 1em; padding-right: 1em; text-align: center; vertical-align: top\">2985</td>\n",
       "        <td style=\"padding-left: 1em; padding-right: 1em; text-align: center; vertical-align: top\">0.276162034587</td>\n",
       "        <td style=\"padding-left: 1em; padding-right: 1em; text-align: center; vertical-align: top\">5</td>\n",
       "        <td style=\"padding-left: 1em; padding-right: 1em; text-align: center; vertical-align: top\">RoboCop (1987)</td>\n",
       "        <td style=\"padding-left: 1em; padding-right: 1em; text-align: center; vertical-align: top\">Action|Crime|Drama|Sci-<br>Fi|Thriller ...</td>\n",
       "        <td style=\"padding-left: 1em; padding-right: 1em; text-align: center; vertical-align: top\">USA</td>\n",
       "    </tr>\n",
       "    <tr>\n",
       "        <td style=\"padding-left: 1em; padding-right: 1em; text-align: center; vertical-align: top\">2</td>\n",
       "        <td style=\"padding-left: 1em; padding-right: 1em; text-align: center; vertical-align: top\">597</td>\n",
       "        <td style=\"padding-left: 1em; padding-right: 1em; text-align: center; vertical-align: top\">0.967056462541</td>\n",
       "        <td style=\"padding-left: 1em; padding-right: 1em; text-align: center; vertical-align: top\">1</td>\n",
       "        <td style=\"padding-left: 1em; padding-right: 1em; text-align: center; vertical-align: top\">Pretty Woman (1990)</td>\n",
       "        <td style=\"padding-left: 1em; padding-right: 1em; text-align: center; vertical-align: top\">Comedy|Romance</td>\n",
       "        <td style=\"padding-left: 1em; padding-right: 1em; text-align: center; vertical-align: top\">USA</td>\n",
       "    </tr>\n",
       "    <tr>\n",
       "        <td style=\"padding-left: 1em; padding-right: 1em; text-align: center; vertical-align: top\">2</td>\n",
       "        <td style=\"padding-left: 1em; padding-right: 1em; text-align: center; vertical-align: top\">380</td>\n",
       "        <td style=\"padding-left: 1em; padding-right: 1em; text-align: center; vertical-align: top\">0.943870854564</td>\n",
       "        <td style=\"padding-left: 1em; padding-right: 1em; text-align: center; vertical-align: top\">2</td>\n",
       "        <td style=\"padding-left: 1em; padding-right: 1em; text-align: center; vertical-align: top\">True Lies (1994)</td>\n",
       "        <td style=\"padding-left: 1em; padding-right: 1em; text-align: center; vertical-align: top\">Action|Adventure|Comedy|R<br>omance|Thriller ...</td>\n",
       "        <td style=\"padding-left: 1em; padding-right: 1em; text-align: center; vertical-align: top\">USA</td>\n",
       "    </tr>\n",
       "    <tr>\n",
       "        <td style=\"padding-left: 1em; padding-right: 1em; text-align: center; vertical-align: top\">2</td>\n",
       "        <td style=\"padding-left: 1em; padding-right: 1em; text-align: center; vertical-align: top\">595</td>\n",
       "        <td style=\"padding-left: 1em; padding-right: 1em; text-align: center; vertical-align: top\">0.864599918015</td>\n",
       "        <td style=\"padding-left: 1em; padding-right: 1em; text-align: center; vertical-align: top\">3</td>\n",
       "        <td style=\"padding-left: 1em; padding-right: 1em; text-align: center; vertical-align: top\">Beauty and the Beast<br>(1991) ...</td>\n",
       "        <td style=\"padding-left: 1em; padding-right: 1em; text-align: center; vertical-align: top\">Animation|Children|Fantas<br>y|Musical|Romance|IMAX ...</td>\n",
       "        <td style=\"padding-left: 1em; padding-right: 1em; text-align: center; vertical-align: top\">USA</td>\n",
       "    </tr>\n",
       "    <tr>\n",
       "        <td style=\"padding-left: 1em; padding-right: 1em; text-align: center; vertical-align: top\">2</td>\n",
       "        <td style=\"padding-left: 1em; padding-right: 1em; text-align: center; vertical-align: top\">292</td>\n",
       "        <td style=\"padding-left: 1em; padding-right: 1em; text-align: center; vertical-align: top\">0.827390409075</td>\n",
       "        <td style=\"padding-left: 1em; padding-right: 1em; text-align: center; vertical-align: top\">4</td>\n",
       "        <td style=\"padding-left: 1em; padding-right: 1em; text-align: center; vertical-align: top\">Outbreak (1995)</td>\n",
       "        <td style=\"padding-left: 1em; padding-right: 1em; text-align: center; vertical-align: top\">Action|Drama|Sci-<br>Fi|Thriller ...</td>\n",
       "        <td style=\"padding-left: 1em; padding-right: 1em; text-align: center; vertical-align: top\">USA</td>\n",
       "    </tr>\n",
       "    <tr>\n",
       "        <td style=\"padding-left: 1em; padding-right: 1em; text-align: center; vertical-align: top\">2</td>\n",
       "        <td style=\"padding-left: 1em; padding-right: 1em; text-align: center; vertical-align: top\">296</td>\n",
       "        <td style=\"padding-left: 1em; padding-right: 1em; text-align: center; vertical-align: top\">0.774405970238</td>\n",
       "        <td style=\"padding-left: 1em; padding-right: 1em; text-align: center; vertical-align: top\">5</td>\n",
       "        <td style=\"padding-left: 1em; padding-right: 1em; text-align: center; vertical-align: top\">Pulp Fiction (1994)</td>\n",
       "        <td style=\"padding-left: 1em; padding-right: 1em; text-align: center; vertical-align: top\">Comedy|Crime|Drama|Thrill<br>er ...</td>\n",
       "        <td style=\"padding-left: 1em; padding-right: 1em; text-align: center; vertical-align: top\">USA</td>\n",
       "    </tr>\n",
       "</table>\n",
       "[10 rows x 7 columns]<br/>\n",
       "</div>"
      ],
      "text/plain": [
       "Columns:\n",
       "\tuserId\tint\n",
       "\tmovieId\tint\n",
       "\tscore\tfloat\n",
       "\trank\tint\n",
       "\ttitle\tstr\n",
       "\tgenres\tstr\n",
       "\tcountry\tstr\n",
       "\n",
       "Rows: 10\n",
       "\n",
       "Data:\n",
       "+--------+---------+----------------+------+-----------------------------+\n",
       "| userId | movieId |     score      | rank |            title            |\n",
       "+--------+---------+----------------+------+-----------------------------+\n",
       "|   1    |   1282  | 0.399928754882 |  1   |       Fantasia (1940)       |\n",
       "|   1    |   2407  | 0.368955445917 |  2   |        Cocoon (1985)        |\n",
       "|   1    |   2140  | 0.296532411324 |  3   |   Dark Crystal, The (1982)  |\n",
       "|   1    |   3504  | 0.294317697224 |  4   |        Network (1976)       |\n",
       "|   1    |   2985  | 0.276162034587 |  5   |        RoboCop (1987)       |\n",
       "|   2    |   597   | 0.967056462541 |  1   |     Pretty Woman (1990)     |\n",
       "|   2    |   380   | 0.943870854564 |  2   |       True Lies (1994)      |\n",
       "|   2    |   595   | 0.864599918015 |  3   | Beauty and the Beast (1991) |\n",
       "|   2    |   292   | 0.827390409075 |  4   |       Outbreak (1995)       |\n",
       "|   2    |   296   | 0.774405970238 |  5   |     Pulp Fiction (1994)     |\n",
       "+--------+---------+----------------+------+-----------------------------+\n",
       "+-------------------------------+---------+\n",
       "|             genres            | country |\n",
       "+-------------------------------+---------+\n",
       "| Animation|Children|Fantasy... |   USA   |\n",
       "|         Comedy|Sci-Fi         |   USA   |\n",
       "|       Adventure|Fantasy       |  USA|UK |\n",
       "|          Comedy|Drama         |   USA   |\n",
       "| Action|Crime|Drama|Sci-Fi|... |   USA   |\n",
       "|         Comedy|Romance        |   USA   |\n",
       "| Action|Adventure|Comedy|Ro... |   USA   |\n",
       "| Animation|Children|Fantasy... |   USA   |\n",
       "|  Action|Drama|Sci-Fi|Thriller |   USA   |\n",
       "|  Comedy|Crime|Drama|Thriller  |   USA   |\n",
       "+-------------------------------+---------+\n",
       "[10 rows x 7 columns]"
      ]
     },
     "execution_count": 34,
     "metadata": {},
     "output_type": "execute_result"
    }
   ],
   "source": [
    "recs_with_titles = recommendations_two_users.join(movies_data_gl, on='movieId').sort(sort_columns=['userId', 'rank'], \n",
    "                                                                           ascending=True)\n",
    "recs_with_titles.head()"
   ]
  },
  {
   "cell_type": "markdown",
   "metadata": {},
   "source": [
    "Neat- from this we can see that there is indeed personalization involved. The movies recommended for user 2 are different from the ones recommended for user 3. The score is the cosine similarity.\n",
    "\n",
    "Instead of only getting 5 recommendations for 2 users, we should get all recommendations for one user in question. If we limited to only 5, it's very unlikely that one of those will be a movie from the country we want."
   ]
  },
  {
   "cell_type": "code",
   "execution_count": 35,
   "metadata": {},
   "outputs": [
    {
     "data": {
      "text/html": [
       "<div style=\"max-height:1000px;max-width:1500px;overflow:auto;\"><table frame=\"box\" rules=\"cols\">\n",
       "    <tr>\n",
       "        <th style=\"padding-left: 1em; padding-right: 1em; text-align: center\">userId</th>\n",
       "        <th style=\"padding-left: 1em; padding-right: 1em; text-align: center\">movieId</th>\n",
       "        <th style=\"padding-left: 1em; padding-right: 1em; text-align: center\">score</th>\n",
       "        <th style=\"padding-left: 1em; padding-right: 1em; text-align: center\">rank</th>\n",
       "        <th style=\"padding-left: 1em; padding-right: 1em; text-align: center\">title</th>\n",
       "        <th style=\"padding-left: 1em; padding-right: 1em; text-align: center\">genres</th>\n",
       "    </tr>\n",
       "    <tr>\n",
       "        <td style=\"padding-left: 1em; padding-right: 1em; text-align: center; vertical-align: top\">2</td>\n",
       "        <td style=\"padding-left: 1em; padding-right: 1em; text-align: center; vertical-align: top\">194</td>\n",
       "        <td style=\"padding-left: 1em; padding-right: 1em; text-align: center; vertical-align: top\">0.0480920718983</td>\n",
       "        <td style=\"padding-left: 1em; padding-right: 1em; text-align: center; vertical-align: top\">220</td>\n",
       "        <td style=\"padding-left: 1em; padding-right: 1em; text-align: center; vertical-align: top\">Smoke (1995)</td>\n",
       "        <td style=\"padding-left: 1em; padding-right: 1em; text-align: center; vertical-align: top\">Comedy|Drama</td>\n",
       "    </tr>\n",
       "    <tr>\n",
       "        <td style=\"padding-left: 1em; padding-right: 1em; text-align: center; vertical-align: top\">2</td>\n",
       "        <td style=\"padding-left: 1em; padding-right: 1em; text-align: center; vertical-align: top\">1094</td>\n",
       "        <td style=\"padding-left: 1em; padding-right: 1em; text-align: center; vertical-align: top\">0.0387149369344</td>\n",
       "        <td style=\"padding-left: 1em; padding-right: 1em; text-align: center; vertical-align: top\">273</td>\n",
       "        <td style=\"padding-left: 1em; padding-right: 1em; text-align: center; vertical-align: top\">Crying Game, The (1992)</td>\n",
       "        <td style=\"padding-left: 1em; padding-right: 1em; text-align: center; vertical-align: top\">Drama|Romance|Thriller</td>\n",
       "    </tr>\n",
       "    <tr>\n",
       "        <td style=\"padding-left: 1em; padding-right: 1em; text-align: center; vertical-align: top\">2</td>\n",
       "        <td style=\"padding-left: 1em; padding-right: 1em; text-align: center; vertical-align: top\">2364</td>\n",
       "        <td style=\"padding-left: 1em; padding-right: 1em; text-align: center; vertical-align: top\">0.0339195430279</td>\n",
       "        <td style=\"padding-left: 1em; padding-right: 1em; text-align: center; vertical-align: top\">325</td>\n",
       "        <td style=\"padding-left: 1em; padding-right: 1em; text-align: center; vertical-align: top\">Godzilla 1985: The Legend<br>Is Reborn (Gojira) ...</td>\n",
       "        <td style=\"padding-left: 1em; padding-right: 1em; text-align: center; vertical-align: top\">Action|Horror|Sci-<br>Fi|Thriller ...</td>\n",
       "    </tr>\n",
       "    <tr>\n",
       "        <td style=\"padding-left: 1em; padding-right: 1em; text-align: center; vertical-align: top\">2</td>\n",
       "        <td style=\"padding-left: 1em; padding-right: 1em; text-align: center; vertical-align: top\">1475</td>\n",
       "        <td style=\"padding-left: 1em; padding-right: 1em; text-align: center; vertical-align: top\">0.0335223115981</td>\n",
       "        <td style=\"padding-left: 1em; padding-right: 1em; text-align: center; vertical-align: top\">330</td>\n",
       "        <td style=\"padding-left: 1em; padding-right: 1em; text-align: center; vertical-align: top\">Kama Sutra: A Tale of<br>Love (1996) ...</td>\n",
       "        <td style=\"padding-left: 1em; padding-right: 1em; text-align: center; vertical-align: top\">Romance</td>\n",
       "    </tr>\n",
       "    <tr>\n",
       "        <td style=\"padding-left: 1em; padding-right: 1em; text-align: center; vertical-align: top\">2</td>\n",
       "        <td style=\"padding-left: 1em; padding-right: 1em; text-align: center; vertical-align: top\">879</td>\n",
       "        <td style=\"padding-left: 1em; padding-right: 1em; text-align: center; vertical-align: top\">0.033331900835</td>\n",
       "        <td style=\"padding-left: 1em; padding-right: 1em; text-align: center; vertical-align: top\">335</td>\n",
       "        <td style=\"padding-left: 1em; padding-right: 1em; text-align: center; vertical-align: top\">Relic, The (1997)</td>\n",
       "        <td style=\"padding-left: 1em; padding-right: 1em; text-align: center; vertical-align: top\">Horror|Thriller</td>\n",
       "    </tr>\n",
       "</table>\n",
       "<table frame=\"box\" rules=\"cols\">\n",
       "    <tr>\n",
       "        <th style=\"padding-left: 1em; padding-right: 1em; text-align: center\">country</th>\n",
       "    </tr>\n",
       "    <tr>\n",
       "        <td style=\"padding-left: 1em; padding-right: 1em; text-align: center; vertical-align: top\">Germany|Japan|USA</td>\n",
       "    </tr>\n",
       "    <tr>\n",
       "        <td style=\"padding-left: 1em; padding-right: 1em; text-align: center; vertical-align: top\">UK|Japan|USA</td>\n",
       "    </tr>\n",
       "    <tr>\n",
       "        <td style=\"padding-left: 1em; padding-right: 1em; text-align: center; vertical-align: top\">Japan</td>\n",
       "    </tr>\n",
       "    <tr>\n",
       "        <td style=\"padding-left: 1em; padding-right: 1em; text-align: center; vertical-align: top\">USA|India|UK|Japan|German<br>y ...</td>\n",
       "    </tr>\n",
       "    <tr>\n",
       "        <td style=\"padding-left: 1em; padding-right: 1em; text-align: center; vertical-align: top\">UK|Germany|Japan|New<br>Zealand|USA ...</td>\n",
       "    </tr>\n",
       "</table>\n",
       "[5 rows x 7 columns]<br/>\n",
       "</div>"
      ],
      "text/plain": [
       "Columns:\n",
       "\tuserId\tint\n",
       "\tmovieId\tint\n",
       "\tscore\tfloat\n",
       "\trank\tint\n",
       "\ttitle\tstr\n",
       "\tgenres\tstr\n",
       "\tcountry\tstr\n",
       "\n",
       "Rows: 5\n",
       "\n",
       "Data:\n",
       "+--------+---------+-----------------+------+-------------------------------+\n",
       "| userId | movieId |      score      | rank |             title             |\n",
       "+--------+---------+-----------------+------+-------------------------------+\n",
       "|   2    |   194   | 0.0480920718983 | 220  |          Smoke (1995)         |\n",
       "|   2    |   1094  | 0.0387149369344 | 273  |    Crying Game, The (1992)    |\n",
       "|   2    |   2364  | 0.0339195430279 | 325  | Godzilla 1985: The Legend ... |\n",
       "|   2    |   1475  | 0.0335223115981 | 330  | Kama Sutra: A Tale of Love... |\n",
       "|   2    |   879   |  0.033331900835 | 335  |       Relic, The (1997)       |\n",
       "+--------+---------+-----------------+------+-------------------------------+\n",
       "+-------------------------------+-------------------------------+\n",
       "|             genres            |            country            |\n",
       "+-------------------------------+-------------------------------+\n",
       "|          Comedy|Drama         |       Germany|Japan|USA       |\n",
       "|     Drama|Romance|Thriller    |          UK|Japan|USA         |\n",
       "| Action|Horror|Sci-Fi|Thriller |             Japan             |\n",
       "|            Romance            |   USA|India|UK|Japan|Germany  |\n",
       "|        Horror|Thriller        | UK|Germany|Japan|New Zeala... |\n",
       "+-------------------------------+-------------------------------+\n",
       "[5 rows x 7 columns]"
      ]
     },
     "execution_count": 35,
     "metadata": {},
     "output_type": "execute_result"
    }
   ],
   "source": [
    "# get all recs for user\n",
    "recommendations = item_similarity_recommender.recommend(users=[2], k=num_movies)\n",
    "recs_with_titles = recommendations.join(movies_data_gl, on='movieId').sort(sort_columns=['rank'], ascending=True)\n",
    "\n",
    "# filter for if the country is listed\n",
    "recommendations_filter_has_country = recs_with_titles[recs_with_titles.apply(lambda x: country in x['country'])]\n",
    "recommendations_filter_has_country.head(n=5)"
   ]
  },
  {
   "cell_type": "code",
   "execution_count": 36,
   "metadata": {},
   "outputs": [
    {
     "data": {
      "text/html": [
       "<div style=\"max-height:1000px;max-width:1500px;overflow:auto;\"><table frame=\"box\" rules=\"cols\">\n",
       "    <tr>\n",
       "        <th style=\"padding-left: 1em; padding-right: 1em; text-align: center\">userId</th>\n",
       "        <th style=\"padding-left: 1em; padding-right: 1em; text-align: center\">movieId</th>\n",
       "        <th style=\"padding-left: 1em; padding-right: 1em; text-align: center\">score</th>\n",
       "        <th style=\"padding-left: 1em; padding-right: 1em; text-align: center\">rank</th>\n",
       "        <th style=\"padding-left: 1em; padding-right: 1em; text-align: center\">title</th>\n",
       "        <th style=\"padding-left: 1em; padding-right: 1em; text-align: center\">genres</th>\n",
       "        <th style=\"padding-left: 1em; padding-right: 1em; text-align: center\">country</th>\n",
       "    </tr>\n",
       "    <tr>\n",
       "        <td style=\"padding-left: 1em; padding-right: 1em; text-align: center; vertical-align: top\">2</td>\n",
       "        <td style=\"padding-left: 1em; padding-right: 1em; text-align: center; vertical-align: top\">2364</td>\n",
       "        <td style=\"padding-left: 1em; padding-right: 1em; text-align: center; vertical-align: top\">0.0339195430279</td>\n",
       "        <td style=\"padding-left: 1em; padding-right: 1em; text-align: center; vertical-align: top\">325</td>\n",
       "        <td style=\"padding-left: 1em; padding-right: 1em; text-align: center; vertical-align: top\">Godzilla 1985: The Legend<br>Is Reborn (Gojira) ...</td>\n",
       "        <td style=\"padding-left: 1em; padding-right: 1em; text-align: center; vertical-align: top\">Action|Horror|Sci-<br>Fi|Thriller ...</td>\n",
       "        <td style=\"padding-left: 1em; padding-right: 1em; text-align: center; vertical-align: top\">Japan</td>\n",
       "    </tr>\n",
       "    <tr>\n",
       "        <td style=\"padding-left: 1em; padding-right: 1em; text-align: center; vertical-align: top\">2</td>\n",
       "        <td style=\"padding-left: 1em; padding-right: 1em; text-align: center; vertical-align: top\">2624</td>\n",
       "        <td style=\"padding-left: 1em; padding-right: 1em; text-align: center; vertical-align: top\">0.0219298247248</td>\n",
       "        <td style=\"padding-left: 1em; padding-right: 1em; text-align: center; vertical-align: top\">509</td>\n",
       "        <td style=\"padding-left: 1em; padding-right: 1em; text-align: center; vertical-align: top\">After Life (Wandafuru<br>raifu) (1998) ...</td>\n",
       "        <td style=\"padding-left: 1em; padding-right: 1em; text-align: center; vertical-align: top\">Drama|Fantasy</td>\n",
       "        <td style=\"padding-left: 1em; padding-right: 1em; text-align: center; vertical-align: top\">Japan</td>\n",
       "    </tr>\n",
       "    <tr>\n",
       "        <td style=\"padding-left: 1em; padding-right: 1em; text-align: center; vertical-align: top\">2</td>\n",
       "        <td style=\"padding-left: 1em; padding-right: 1em; text-align: center; vertical-align: top\">6243</td>\n",
       "        <td style=\"padding-left: 1em; padding-right: 1em; text-align: center; vertical-align: top\">0.0149694280699</td>\n",
       "        <td style=\"padding-left: 1em; padding-right: 1em; text-align: center; vertical-align: top\">785</td>\n",
       "        <td style=\"padding-left: 1em; padding-right: 1em; text-align: center; vertical-align: top\">Ringu 2 (Ring 2) (1999)</td>\n",
       "        <td style=\"padding-left: 1em; padding-right: 1em; text-align: center; vertical-align: top\">Horror|Mystery</td>\n",
       "        <td style=\"padding-left: 1em; padding-right: 1em; text-align: center; vertical-align: top\">Japan</td>\n",
       "    </tr>\n",
       "    <tr>\n",
       "        <td style=\"padding-left: 1em; padding-right: 1em; text-align: center; vertical-align: top\">2</td>\n",
       "        <td style=\"padding-left: 1em; padding-right: 1em; text-align: center; vertical-align: top\">95499</td>\n",
       "        <td style=\"padding-left: 1em; padding-right: 1em; text-align: center; vertical-align: top\">0.0</td>\n",
       "        <td style=\"padding-left: 1em; padding-right: 1em; text-align: center; vertical-align: top\">1020</td>\n",
       "        <td style=\"padding-left: 1em; padding-right: 1em; text-align: center; vertical-align: top\">Dragon Ball Z: Broly -<br>The Legendary Super ...</td>\n",
       "        <td style=\"padding-left: 1em; padding-right: 1em; text-align: center; vertical-align: top\">Action|Adventure|Animatio<br>n ...</td>\n",
       "        <td style=\"padding-left: 1em; padding-right: 1em; text-align: center; vertical-align: top\">Japan</td>\n",
       "    </tr>\n",
       "    <tr>\n",
       "        <td style=\"padding-left: 1em; padding-right: 1em; text-align: center; vertical-align: top\">2</td>\n",
       "        <td style=\"padding-left: 1em; padding-right: 1em; text-align: center; vertical-align: top\">5618</td>\n",
       "        <td style=\"padding-left: 1em; padding-right: 1em; text-align: center; vertical-align: top\">0.0</td>\n",
       "        <td style=\"padding-left: 1em; padding-right: 1em; text-align: center; vertical-align: top\">1030</td>\n",
       "        <td style=\"padding-left: 1em; padding-right: 1em; text-align: center; vertical-align: top\">Spirited Away (Sen to<br>Chihiro no kamikakushi) ...</td>\n",
       "        <td style=\"padding-left: 1em; padding-right: 1em; text-align: center; vertical-align: top\">Adventure|Animation|Fanta<br>sy ...</td>\n",
       "        <td style=\"padding-left: 1em; padding-right: 1em; text-align: center; vertical-align: top\">Japan</td>\n",
       "    </tr>\n",
       "</table>\n",
       "[5 rows x 7 columns]<br/>\n",
       "</div>"
      ],
      "text/plain": [
       "Columns:\n",
       "\tuserId\tint\n",
       "\tmovieId\tint\n",
       "\tscore\tfloat\n",
       "\trank\tint\n",
       "\ttitle\tstr\n",
       "\tgenres\tstr\n",
       "\tcountry\tstr\n",
       "\n",
       "Rows: 5\n",
       "\n",
       "Data:\n",
       "+--------+---------+-----------------+------+-------------------------------+\n",
       "| userId | movieId |      score      | rank |             title             |\n",
       "+--------+---------+-----------------+------+-------------------------------+\n",
       "|   2    |   2364  | 0.0339195430279 | 325  | Godzilla 1985: The Legend ... |\n",
       "|   2    |   2624  | 0.0219298247248 | 509  | After Life (Wandafuru raif... |\n",
       "|   2    |   6243  | 0.0149694280699 | 785  |    Ringu 2 (Ring 2) (1999)    |\n",
       "|   2    |  95499  |       0.0       | 1020 | Dragon Ball Z: Broly - The... |\n",
       "|   2    |   5618  |       0.0       | 1030 | Spirited Away (Sen to Chih... |\n",
       "+--------+---------+-----------------+------+-------------------------------+\n",
       "+-------------------------------+---------+\n",
       "|             genres            | country |\n",
       "+-------------------------------+---------+\n",
       "| Action|Horror|Sci-Fi|Thriller |  Japan  |\n",
       "|         Drama|Fantasy         |  Japan  |\n",
       "|         Horror|Mystery        |  Japan  |\n",
       "|   Action|Adventure|Animation  |  Japan  |\n",
       "|  Adventure|Animation|Fantasy  |  Japan  |\n",
       "+-------------------------------+---------+\n",
       "[5 rows x 7 columns]"
      ]
     },
     "execution_count": 36,
     "metadata": {},
     "output_type": "execute_result"
    }
   ],
   "source": [
    "# filter for if the country is the only one listed\n",
    "recommendations_filter_sole_country = recs_with_titles.filter_by(country, 'country')\n",
    "recommendations_filter_sole_country.head(n=5)"
   ]
  },
  {
   "cell_type": "markdown",
   "metadata": {},
   "source": [
    "As we can see from the above two tables, the more filtered result (where Japan is the only country attributed to a movie), the lower our score and rank. Basically the model doesn't think there are many movies from Japan similar to the ones this user has liked before. Still, it's better than a score of 0! \n",
    "\n",
    "The low score is a result of the data set. As we noticed in the graph earlier, there are a lot more movies rated from the US. It is less likely that any given user has seen movies from multiple countries than a user has seen many movies from the USA. "
   ]
  },
  {
   "cell_type": "code",
   "execution_count": 40,
   "metadata": {},
   "outputs": [
    {
     "data": {
      "text/html": [
       "<div style=\"max-height:1000px;max-width:1500px;overflow:auto;\"><table frame=\"box\" rules=\"cols\">\n",
       "    <tr>\n",
       "        <th style=\"padding-left: 1em; padding-right: 1em; text-align: center\">userId</th>\n",
       "        <th style=\"padding-left: 1em; padding-right: 1em; text-align: center\">movieId</th>\n",
       "        <th style=\"padding-left: 1em; padding-right: 1em; text-align: center\">score</th>\n",
       "        <th style=\"padding-left: 1em; padding-right: 1em; text-align: center\">rank</th>\n",
       "        <th style=\"padding-left: 1em; padding-right: 1em; text-align: center\">title</th>\n",
       "        <th style=\"padding-left: 1em; padding-right: 1em; text-align: center\">genres</th>\n",
       "        <th style=\"padding-left: 1em; padding-right: 1em; text-align: center\">country</th>\n",
       "    </tr>\n",
       "    <tr>\n",
       "        <td style=\"padding-left: 1em; padding-right: 1em; text-align: center; vertical-align: top\">672</td>\n",
       "        <td style=\"padding-left: 1em; padding-right: 1em; text-align: center; vertical-align: top\">8327</td>\n",
       "        <td style=\"padding-left: 1em; padding-right: 1em; text-align: center; vertical-align: top\">0.213023077874</td>\n",
       "        <td style=\"padding-left: 1em; padding-right: 1em; text-align: center; vertical-align: top\">57</td>\n",
       "        <td style=\"padding-left: 1em; padding-right: 1em; text-align: center; vertical-align: top\">Dolls (2002)</td>\n",
       "        <td style=\"padding-left: 1em; padding-right: 1em; text-align: center; vertical-align: top\">Drama|Romance</td>\n",
       "        <td style=\"padding-left: 1em; padding-right: 1em; text-align: center; vertical-align: top\">Japan</td>\n",
       "    </tr>\n",
       "    <tr>\n",
       "        <td style=\"padding-left: 1em; padding-right: 1em; text-align: center; vertical-align: top\">672</td>\n",
       "        <td style=\"padding-left: 1em; padding-right: 1em; text-align: center; vertical-align: top\">37830</td>\n",
       "        <td style=\"padding-left: 1em; padding-right: 1em; text-align: center; vertical-align: top\">0.200909486839</td>\n",
       "        <td style=\"padding-left: 1em; padding-right: 1em; text-align: center; vertical-align: top\">63</td>\n",
       "        <td style=\"padding-left: 1em; padding-right: 1em; text-align: center; vertical-align: top\">Final Fantasy VII: Advent<br>Children (2004) ...</td>\n",
       "        <td style=\"padding-left: 1em; padding-right: 1em; text-align: center; vertical-align: top\">Action|Adventure|Animatio<br>n|Fantasy|Sci-Fi ...</td>\n",
       "        <td style=\"padding-left: 1em; padding-right: 1em; text-align: center; vertical-align: top\">Japan</td>\n",
       "    </tr>\n",
       "    <tr>\n",
       "        <td style=\"padding-left: 1em; padding-right: 1em; text-align: center; vertical-align: top\">672</td>\n",
       "        <td style=\"padding-left: 1em; padding-right: 1em; text-align: center; vertical-align: top\">7574</td>\n",
       "        <td style=\"padding-left: 1em; padding-right: 1em; text-align: center; vertical-align: top\">0.142857142857</td>\n",
       "        <td style=\"padding-left: 1em; padding-right: 1em; text-align: center; vertical-align: top\">174</td>\n",
       "        <td style=\"padding-left: 1em; padding-right: 1em; text-align: center; vertical-align: top\">Maborosi (Maboroshi no<br>hikari) (1995) ...</td>\n",
       "        <td style=\"padding-left: 1em; padding-right: 1em; text-align: center; vertical-align: top\">Drama</td>\n",
       "        <td style=\"padding-left: 1em; padding-right: 1em; text-align: center; vertical-align: top\">Japan</td>\n",
       "    </tr>\n",
       "    <tr>\n",
       "        <td style=\"padding-left: 1em; padding-right: 1em; text-align: center; vertical-align: top\">672</td>\n",
       "        <td style=\"padding-left: 1em; padding-right: 1em; text-align: center; vertical-align: top\">43899</td>\n",
       "        <td style=\"padding-left: 1em; padding-right: 1em; text-align: center; vertical-align: top\">0.142857142857</td>\n",
       "        <td style=\"padding-left: 1em; padding-right: 1em; text-align: center; vertical-align: top\">181</td>\n",
       "        <td style=\"padding-left: 1em; padding-right: 1em; text-align: center; vertical-align: top\">Tony Takitani (2004)</td>\n",
       "        <td style=\"padding-left: 1em; padding-right: 1em; text-align: center; vertical-align: top\">Drama</td>\n",
       "        <td style=\"padding-left: 1em; padding-right: 1em; text-align: center; vertical-align: top\">Japan</td>\n",
       "    </tr>\n",
       "    <tr>\n",
       "        <td style=\"padding-left: 1em; padding-right: 1em; text-align: center; vertical-align: top\">672</td>\n",
       "        <td style=\"padding-left: 1em; padding-right: 1em; text-align: center; vertical-align: top\">71438</td>\n",
       "        <td style=\"padding-left: 1em; padding-right: 1em; text-align: center; vertical-align: top\">0.142857142857</td>\n",
       "        <td style=\"padding-left: 1em; padding-right: 1em; text-align: center; vertical-align: top\">189</td>\n",
       "        <td style=\"padding-left: 1em; padding-right: 1em; text-align: center; vertical-align: top\">Still Walking (Aruitemo<br>aruitemo) (2008) ...</td>\n",
       "        <td style=\"padding-left: 1em; padding-right: 1em; text-align: center; vertical-align: top\">Drama</td>\n",
       "        <td style=\"padding-left: 1em; padding-right: 1em; text-align: center; vertical-align: top\">Japan</td>\n",
       "    </tr>\n",
       "    <tr>\n",
       "        <td style=\"padding-left: 1em; padding-right: 1em; text-align: center; vertical-align: top\">672</td>\n",
       "        <td style=\"padding-left: 1em; padding-right: 1em; text-align: center; vertical-align: top\">68137</td>\n",
       "        <td style=\"padding-left: 1em; padding-right: 1em; text-align: center; vertical-align: top\">0.142857142857</td>\n",
       "        <td style=\"padding-left: 1em; padding-right: 1em; text-align: center; vertical-align: top\">192</td>\n",
       "        <td style=\"padding-left: 1em; padding-right: 1em; text-align: center; vertical-align: top\">Nana (2005)</td>\n",
       "        <td style=\"padding-left: 1em; padding-right: 1em; text-align: center; vertical-align: top\">Drama</td>\n",
       "        <td style=\"padding-left: 1em; padding-right: 1em; text-align: center; vertical-align: top\">Japan</td>\n",
       "    </tr>\n",
       "    <tr>\n",
       "        <td style=\"padding-left: 1em; padding-right: 1em; text-align: center; vertical-align: top\">672</td>\n",
       "        <td style=\"padding-left: 1em; padding-right: 1em; text-align: center; vertical-align: top\">2624</td>\n",
       "        <td style=\"padding-left: 1em; padding-right: 1em; text-align: center; vertical-align: top\">0.112664608728</td>\n",
       "        <td style=\"padding-left: 1em; padding-right: 1em; text-align: center; vertical-align: top\">289</td>\n",
       "        <td style=\"padding-left: 1em; padding-right: 1em; text-align: center; vertical-align: top\">After Life (Wandafuru<br>raifu) (1998) ...</td>\n",
       "        <td style=\"padding-left: 1em; padding-right: 1em; text-align: center; vertical-align: top\">Drama|Fantasy</td>\n",
       "        <td style=\"padding-left: 1em; padding-right: 1em; text-align: center; vertical-align: top\">Japan</td>\n",
       "    </tr>\n",
       "    <tr>\n",
       "        <td style=\"padding-left: 1em; padding-right: 1em; text-align: center; vertical-align: top\">672</td>\n",
       "        <td style=\"padding-left: 1em; padding-right: 1em; text-align: center; vertical-align: top\">5971</td>\n",
       "        <td style=\"padding-left: 1em; padding-right: 1em; text-align: center; vertical-align: top\">0.111200094223</td>\n",
       "        <td style=\"padding-left: 1em; padding-right: 1em; text-align: center; vertical-align: top\">296</td>\n",
       "        <td style=\"padding-left: 1em; padding-right: 1em; text-align: center; vertical-align: top\">My Neighbor Totoro<br>(Tonari no Totoro) (1 ...</td>\n",
       "        <td style=\"padding-left: 1em; padding-right: 1em; text-align: center; vertical-align: top\">Animation|Children|Drama|<br>Fantasy ...</td>\n",
       "        <td style=\"padding-left: 1em; padding-right: 1em; text-align: center; vertical-align: top\">Japan</td>\n",
       "    </tr>\n",
       "    <tr>\n",
       "        <td style=\"padding-left: 1em; padding-right: 1em; text-align: center; vertical-align: top\">672</td>\n",
       "        <td style=\"padding-left: 1em; padding-right: 1em; text-align: center; vertical-align: top\">5618</td>\n",
       "        <td style=\"padding-left: 1em; padding-right: 1em; text-align: center; vertical-align: top\">0.101806572505</td>\n",
       "        <td style=\"padding-left: 1em; padding-right: 1em; text-align: center; vertical-align: top\">337</td>\n",
       "        <td style=\"padding-left: 1em; padding-right: 1em; text-align: center; vertical-align: top\">Spirited Away (Sen to<br>Chihiro no kamikakushi) ...</td>\n",
       "        <td style=\"padding-left: 1em; padding-right: 1em; text-align: center; vertical-align: top\">Adventure|Animation|Fanta<br>sy ...</td>\n",
       "        <td style=\"padding-left: 1em; padding-right: 1em; text-align: center; vertical-align: top\">Japan</td>\n",
       "    </tr>\n",
       "    <tr>\n",
       "        <td style=\"padding-left: 1em; padding-right: 1em; text-align: center; vertical-align: top\">672</td>\n",
       "        <td style=\"padding-left: 1em; padding-right: 1em; text-align: center; vertical-align: top\">31437</td>\n",
       "        <td style=\"padding-left: 1em; padding-right: 1em; text-align: center; vertical-align: top\">0.101015252726</td>\n",
       "        <td style=\"padding-left: 1em; padding-right: 1em; text-align: center; vertical-align: top\">341</td>\n",
       "        <td style=\"padding-left: 1em; padding-right: 1em; text-align: center; vertical-align: top\">Nobody Knows (Dare mo<br>shiranai) (2004) ...</td>\n",
       "        <td style=\"padding-left: 1em; padding-right: 1em; text-align: center; vertical-align: top\">Drama</td>\n",
       "        <td style=\"padding-left: 1em; padding-right: 1em; text-align: center; vertical-align: top\">Japan</td>\n",
       "    </tr>\n",
       "</table>\n",
       "[10 rows x 7 columns]<br/>\n",
       "</div>"
      ],
      "text/plain": [
       "Columns:\n",
       "\tuserId\tint\n",
       "\tmovieId\tint\n",
       "\tscore\tfloat\n",
       "\trank\tint\n",
       "\ttitle\tstr\n",
       "\tgenres\tstr\n",
       "\tcountry\tstr\n",
       "\n",
       "Rows: 10\n",
       "\n",
       "Data:\n",
       "+--------+---------+----------------+------+-------------------------------+\n",
       "| userId | movieId |     score      | rank |             title             |\n",
       "+--------+---------+----------------+------+-------------------------------+\n",
       "|  672   |   8327  | 0.213023077874 |  57  |          Dolls (2002)         |\n",
       "|  672   |  37830  | 0.200909486839 |  63  | Final Fantasy VII: Advent ... |\n",
       "|  672   |   7574  | 0.142857142857 | 174  | Maborosi (Maboroshi no hik... |\n",
       "|  672   |  43899  | 0.142857142857 | 181  |      Tony Takitani (2004)     |\n",
       "|  672   |  71438  | 0.142857142857 | 189  | Still Walking (Aruitemo ar... |\n",
       "|  672   |  68137  | 0.142857142857 | 192  |          Nana (2005)          |\n",
       "|  672   |   2624  | 0.112664608728 | 289  | After Life (Wandafuru raif... |\n",
       "|  672   |   5971  | 0.111200094223 | 296  | My Neighbor Totoro (Tonari... |\n",
       "|  672   |   5618  | 0.101806572505 | 337  | Spirited Away (Sen to Chih... |\n",
       "|  672   |  31437  | 0.101015252726 | 341  | Nobody Knows (Dare mo shir... |\n",
       "+--------+---------+----------------+------+-------------------------------+\n",
       "+-------------------------------+---------+\n",
       "|             genres            | country |\n",
       "+-------------------------------+---------+\n",
       "|         Drama|Romance         |  Japan  |\n",
       "| Action|Adventure|Animation... |  Japan  |\n",
       "|             Drama             |  Japan  |\n",
       "|             Drama             |  Japan  |\n",
       "|             Drama             |  Japan  |\n",
       "|             Drama             |  Japan  |\n",
       "|         Drama|Fantasy         |  Japan  |\n",
       "| Animation|Children|Drama|F... |  Japan  |\n",
       "|  Adventure|Animation|Fantasy  |  Japan  |\n",
       "|             Drama             |  Japan  |\n",
       "+-------------------------------+---------+\n",
       "[10 rows x 7 columns]"
      ]
     },
     "execution_count": 40,
     "metadata": {},
     "output_type": "execute_result"
    }
   ],
   "source": [
    "prepared_data_gl = gl.SFrame(prepared_data)\n",
    "recommendations = item_similarity_recommender.recommend([prepared_data_gl['userId'][0]], k=num_movies, new_observation_data=prepared_data_gl)\\\n",
    "        .join(movies_data_gl, on='movieId').sort(sort_columns=['rank'], ascending=True)\n",
    "recommendations.filter_by(country, 'country').head()"
   ]
  },
  {
   "cell_type": "markdown",
   "metadata": {},
   "source": [
    "Once again, it's hard to say if any of these are movies I'd like, although I do like both Totoro and Spirited Away..."
   ]
  },
  {
   "cell_type": "code",
   "execution_count": null,
   "metadata": {
    "collapsed": true
   },
   "outputs": [],
   "source": []
  }
 ],
 "metadata": {
  "kernelspec": {
   "display_name": "Python 2",
   "language": "python",
   "name": "python2"
  },
  "language_info": {
   "codemirror_mode": {
    "name": "ipython",
    "version": 2
   },
   "file_extension": ".py",
   "mimetype": "text/x-python",
   "name": "python",
   "nbconvert_exporter": "python",
   "pygments_lexer": "ipython2",
   "version": "2.7.10"
  }
 },
 "nbformat": 4,
 "nbformat_minor": 1
}
