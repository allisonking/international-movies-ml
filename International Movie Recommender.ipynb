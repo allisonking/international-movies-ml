{
 "cells": [
  {
   "cell_type": "markdown",
   "metadata": {},
   "source": [
    "<div id=\"toc\"> </div>"
   ]
  },
  {
   "cell_type": "markdown",
   "metadata": {
    "slideshow": {
     "slide_type": "-"
    }
   },
   "source": [
    "# Recommending movies from around the world!\n",
    "## Motivation\n",
    "One of the potential dangers in recommender systems is also what they are meant to do- recommend you things that you will continue to like. This can lead people to continue liking things they already like with nothing that would inspire them to try something out of their comfort zone. Branching out can lead to diversity in thinking as well as increased empathy. Therefore, the goal of this project is to deliberately use a user's preference to recommend them movies from another country. The user will be able to choose a country, then the recommender will use their preferences to recommend a movie for them from that country. This project was partly inspired by [Book Riot's list of 80 books from the 80 most populated countries in the world](http://bookriot.com/2016/04/28/around-world-80-books-global-reading-list/ \"book riot list\").\n",
    "\n",
    "## Getting the data we need\n",
    "\n",
    "We'll begin by importing some data. We're going to use the [Movielens](https://grouplens.org/datasets/movielens/) dataset, a dataset of user ratings of movies collected by GroupLens Research at the Department of Computer Science and Engineering at the University of Minnesota. \n",
    "\n",
    "This dataset comes with the following files:\n",
    "* `links.csv`: a list of movie ids, along with their IMDB ids. \n",
    "* `movies.csv`: a list of movie ids, their title, and their genre\n",
    "* `ratings.csv`: a list of user ids, the movie id of the movie they rated, the rating they gave it, and the timestamp of when they rated the movie\n",
    "* `tags.csv`: a list of user created tags \n",
    "\n",
    "Unfortunately, the Movielens data doesn't automatically come with the country associated with each movie. That's okay though- we can write some scripts to grab that data for us. We can do this data gathering using [OMDB](http://www.omdbapi.com/), the Open Movie database, whose API allows us to access IMDB data. Luckily, thanks to `links.csv`, we have the IMDB ids, so accessing the data is easy.\n",
    "\n",
    "In the code snippet below, we can see the first five rows of `links.csv`. We'll be using [pandas](http://pandas.pydata.org/), a data analysis library, for most of our data manipulation... at first."
   ]
  },
  {
   "cell_type": "code",
   "execution_count": 2,
   "metadata": {
    "collapsed": false
   },
   "outputs": [
    {
     "data": {
      "text/html": [
       "<div>\n",
       "<table border=\"1\" class=\"dataframe\">\n",
       "  <thead>\n",
       "    <tr style=\"text-align: right;\">\n",
       "      <th></th>\n",
       "      <th>movieId</th>\n",
       "      <th>imdbId</th>\n",
       "      <th>tmdbId</th>\n",
       "    </tr>\n",
       "  </thead>\n",
       "  <tbody>\n",
       "    <tr>\n",
       "      <th>0</th>\n",
       "      <td>1</td>\n",
       "      <td>0114709</td>\n",
       "      <td>862</td>\n",
       "    </tr>\n",
       "    <tr>\n",
       "      <th>1</th>\n",
       "      <td>2</td>\n",
       "      <td>0113497</td>\n",
       "      <td>8844</td>\n",
       "    </tr>\n",
       "    <tr>\n",
       "      <th>2</th>\n",
       "      <td>3</td>\n",
       "      <td>0113228</td>\n",
       "      <td>15602</td>\n",
       "    </tr>\n",
       "    <tr>\n",
       "      <th>3</th>\n",
       "      <td>4</td>\n",
       "      <td>0114885</td>\n",
       "      <td>31357</td>\n",
       "    </tr>\n",
       "    <tr>\n",
       "      <th>4</th>\n",
       "      <td>5</td>\n",
       "      <td>0113041</td>\n",
       "      <td>11862</td>\n",
       "    </tr>\n",
       "  </tbody>\n",
       "</table>\n",
       "</div>"
      ],
      "text/plain": [
       "   movieId   imdbId tmdbId\n",
       "0        1  0114709    862\n",
       "1        2  0113497   8844\n",
       "2        3  0113228  15602\n",
       "3        4  0114885  31357\n",
       "4        5  0113041  11862"
      ]
     },
     "execution_count": 2,
     "metadata": {},
     "output_type": "execute_result"
    }
   ],
   "source": [
    "# pandas library for data analysis (good read reading in and manipulating our CSV files)\n",
    "import pandas as pd\n",
    "# we'll need the requests library to make http requests to the OMDB API\n",
    "import requests\n",
    "\n",
    "# open links.csv in order to access IMDB id numbers\n",
    "links_file = pd.read_csv('movie-lens-data/links.csv', dtype={'imdbId': object, 'tmdbId': object})\n",
    "links_file.head(n=5)"
   ]
  },
  {
   "cell_type": "markdown",
   "metadata": {},
   "source": [
    "We'll do one example of using the `requests` library to get our data from OMDB next."
   ]
  },
  {
   "cell_type": "code",
   "execution_count": 3,
   "metadata": {
    "collapsed": false
   },
   "outputs": [
    {
     "name": "stdout",
     "output_type": "stream",
     "text": [
      "The OMDB URL we will send our request to: http://www.omdbapi.com/?i=tt0114709\n",
      "Country associated with movieId 1: USA\n"
     ]
    }
   ],
   "source": [
    "# get the OMDB API URL\n",
    "omdb_url = 'http://www.omdbapi.com/?i=tt'\n",
    "\n",
    "# get the IMDB id for one of our movies\n",
    "imdb_id = links_file.iloc[0].imdbId\n",
    "\n",
    "# get the full OMDB url\n",
    "url = omdb_url + imdb_id\n",
    "print 'The OMDB URL we will send our request to: %s' % url\n",
    "\n",
    "# get the countries associated with the movie\n",
    "response = requests.get(url)\n",
    "countries = response.json()['Country']\n",
    "print 'Country associated with movieId %s: %s' %(links_file.iloc[0].movieId, countries)"
   ]
  },
  {
   "cell_type": "markdown",
   "metadata": {},
   "source": [
    "Cool, so we found the first movie listed was a movie from the USA! So what movie was it? Since we only have the movie ID, we'll have to JOIN it with the information in `movies.csv` to get the actual movie title."
   ]
  },
  {
   "cell_type": "code",
   "execution_count": 4,
   "metadata": {
    "collapsed": false
   },
   "outputs": [
    {
     "data": {
      "text/html": [
       "<div>\n",
       "<table border=\"1\" class=\"dataframe\">\n",
       "  <thead>\n",
       "    <tr style=\"text-align: right;\">\n",
       "      <th></th>\n",
       "      <th>movieId</th>\n",
       "      <th>title</th>\n",
       "      <th>genres</th>\n",
       "    </tr>\n",
       "  </thead>\n",
       "  <tbody>\n",
       "    <tr>\n",
       "      <th>0</th>\n",
       "      <td>1</td>\n",
       "      <td>Toy Story (1995)</td>\n",
       "      <td>Adventure|Animation|Children|Comedy|Fantasy</td>\n",
       "    </tr>\n",
       "    <tr>\n",
       "      <th>1</th>\n",
       "      <td>2</td>\n",
       "      <td>Jumanji (1995)</td>\n",
       "      <td>Adventure|Children|Fantasy</td>\n",
       "    </tr>\n",
       "    <tr>\n",
       "      <th>2</th>\n",
       "      <td>3</td>\n",
       "      <td>Grumpier Old Men (1995)</td>\n",
       "      <td>Comedy|Romance</td>\n",
       "    </tr>\n",
       "    <tr>\n",
       "      <th>3</th>\n",
       "      <td>4</td>\n",
       "      <td>Waiting to Exhale (1995)</td>\n",
       "      <td>Comedy|Drama|Romance</td>\n",
       "    </tr>\n",
       "    <tr>\n",
       "      <th>4</th>\n",
       "      <td>5</td>\n",
       "      <td>Father of the Bride Part II (1995)</td>\n",
       "      <td>Comedy</td>\n",
       "    </tr>\n",
       "  </tbody>\n",
       "</table>\n",
       "</div>"
      ],
      "text/plain": [
       "   movieId                               title  \\\n",
       "0        1                    Toy Story (1995)   \n",
       "1        2                      Jumanji (1995)   \n",
       "2        3             Grumpier Old Men (1995)   \n",
       "3        4            Waiting to Exhale (1995)   \n",
       "4        5  Father of the Bride Part II (1995)   \n",
       "\n",
       "                                        genres  \n",
       "0  Adventure|Animation|Children|Comedy|Fantasy  \n",
       "1                   Adventure|Children|Fantasy  \n",
       "2                               Comedy|Romance  \n",
       "3                         Comedy|Drama|Romance  \n",
       "4                                       Comedy  "
      ]
     },
     "execution_count": 4,
     "metadata": {},
     "output_type": "execute_result"
    }
   ],
   "source": [
    "movies_file = pd.read_csv('movie-lens-data/movies.csv')\n",
    "movies_file.head(n=5)"
   ]
  },
  {
   "cell_type": "markdown",
   "metadata": {},
   "source": [
    "Oh cool- Toy Story, most definitely a movie from the US! We can add this to our `movies.csv` file so that it will look like:"
   ]
  },
  {
   "cell_type": "code",
   "execution_count": 5,
   "metadata": {
    "collapsed": false
   },
   "outputs": [
    {
     "data": {
      "text/html": [
       "<div>\n",
       "<table border=\"1\" class=\"dataframe\">\n",
       "  <thead>\n",
       "    <tr style=\"text-align: right;\">\n",
       "      <th></th>\n",
       "      <th>movieId</th>\n",
       "      <th>title</th>\n",
       "      <th>genres</th>\n",
       "      <th>country</th>\n",
       "    </tr>\n",
       "  </thead>\n",
       "  <tbody>\n",
       "    <tr>\n",
       "      <th>0</th>\n",
       "      <td>1</td>\n",
       "      <td>Toy Story (1995)</td>\n",
       "      <td>Adventure|Animation|Children|Comedy|Fantasy</td>\n",
       "      <td>USA</td>\n",
       "    </tr>\n",
       "    <tr>\n",
       "      <th>1</th>\n",
       "      <td>2</td>\n",
       "      <td>Jumanji (1995)</td>\n",
       "      <td>Adventure|Children|Fantasy</td>\n",
       "      <td>NaN</td>\n",
       "    </tr>\n",
       "    <tr>\n",
       "      <th>2</th>\n",
       "      <td>3</td>\n",
       "      <td>Grumpier Old Men (1995)</td>\n",
       "      <td>Comedy|Romance</td>\n",
       "      <td>NaN</td>\n",
       "    </tr>\n",
       "    <tr>\n",
       "      <th>3</th>\n",
       "      <td>4</td>\n",
       "      <td>Waiting to Exhale (1995)</td>\n",
       "      <td>Comedy|Drama|Romance</td>\n",
       "      <td>NaN</td>\n",
       "    </tr>\n",
       "    <tr>\n",
       "      <th>4</th>\n",
       "      <td>5</td>\n",
       "      <td>Father of the Bride Part II (1995)</td>\n",
       "      <td>Comedy</td>\n",
       "      <td>NaN</td>\n",
       "    </tr>\n",
       "  </tbody>\n",
       "</table>\n",
       "</div>"
      ],
      "text/plain": [
       "   movieId                               title  \\\n",
       "0        1                    Toy Story (1995)   \n",
       "1        2                      Jumanji (1995)   \n",
       "2        3             Grumpier Old Men (1995)   \n",
       "3        4            Waiting to Exhale (1995)   \n",
       "4        5  Father of the Bride Part II (1995)   \n",
       "\n",
       "                                        genres country  \n",
       "0  Adventure|Animation|Children|Comedy|Fantasy     USA  \n",
       "1                   Adventure|Children|Fantasy     NaN  \n",
       "2                               Comedy|Romance     NaN  \n",
       "3                         Comedy|Drama|Romance     NaN  \n",
       "4                                       Comedy     NaN  "
      ]
     },
     "execution_count": 5,
     "metadata": {},
     "output_type": "execute_result"
    }
   ],
   "source": [
    "movies_file.set_value(0, 'country', countries)\n",
    "movies_file.head(n=5)"
   ]
  },
  {
   "cell_type": "markdown",
   "metadata": {},
   "source": [
    "We'll do this for the entire `movies.csv` file. Once we do that, we can take a look at our data.\n",
    "\n",
    "### Movielens data\n",
    "Since we're recommending movies by country, we should get a sense of how our data is distributed across countries. I went through the data and got some stats on the countries. Some movies have multiple countries associated with them, marked by 'USA|China|UK', for example, so in these cases I counted the movie as one for each of those countries. "
   ]
  },
  {
   "cell_type": "code",
   "execution_count": 6,
   "metadata": {
    "collapsed": false
   },
   "outputs": [
    {
     "name": "stdout",
     "output_type": "stream",
     "text": [
      "This non-commercial license of GraphLab Create for academic use is assigned to ajking@bu.edu and will expire on March 26, 2018.\n"
     ]
    },
    {
     "name": "stderr",
     "output_type": "stream",
     "text": [
      "[INFO] graphlab.cython.cy_server: GraphLab Create v2.1 started. Logging: /tmp/graphlab_server_1493073791.log\n"
     ]
    },
    {
     "data": {
      "image/png": "[encoded data removed]",
      "text/plain": [
       "<matplotlib.figure.Figure at 0x7f6a8e838b10>"
      ]
     },
     "metadata": {},
     "output_type": "display_data"
    }
   ],
   "source": [
    "# stuff to make our graph show up in the notebook\n",
    "%matplotlib inline  \n",
    "import matplotlib\n",
    "import matplotlib.pyplot as plt\n",
    "matplotlib.rcParams['figure.figsize'] = (20.0, 10.0)\n",
    "\n",
    "# read in the file I had generated of number of times a country is attributed to a movie\n",
    "country_stats = pd.read_csv('scripts/output/country-stats-20m.csv')\n",
    "axes = country_stats.plot(x='country', y='count_percentage', kind='bar', title='Number of Movies from a Country',\n",
    "                              legend=False)\n",
    "# set the axes and set display\n",
    "axes.set_xlabel(\"Country\")\n",
    "axes.set_ylabel(\"Count\")\n",
    "plt.tight_layout()\n",
    "plt.show()"
   ]
  },
  {
   "cell_type": "markdown",
   "metadata": {},
   "source": [
    "From this plot, it's pretty clear that the Movielens dataset has a huge number of movies from the USA- nearly 50%! After the USA, there are many from the UK, France, and Canada, along with a significant number from Italy, Japan, and Germany. This is important to keep in mind later when we look at what kind of recommendations we get."
   ]
  },
  {
   "cell_type": "markdown",
   "metadata": {},
   "source": [
    "## Recommender Types\n",
    "We're going to try out three different types of recommendation systems:\n",
    "* Popularity Recommender\n",
    "* Item Similarity Recommender\n",
    "* Ranking Factorization Recommender\n",
    "\n",
    "The following code involves importing the data and splitting it into test and train data. This code will be used for all of the recommender types.\n"
   ]
  },
  {
   "cell_type": "code",
   "execution_count": 7,
   "metadata": {
    "collapsed": false
   },
   "outputs": [
    {
     "data": {
      "text/html": [
       "<div>\n",
       "<table border=\"1\" class=\"dataframe\">\n",
       "  <thead>\n",
       "    <tr style=\"text-align: right;\">\n",
       "      <th></th>\n",
       "      <th>userId</th>\n",
       "      <th>movieId</th>\n",
       "      <th>rating</th>\n",
       "      <th>timestamp</th>\n",
       "    </tr>\n",
       "  </thead>\n",
       "  <tbody>\n",
       "    <tr>\n",
       "      <th>0</th>\n",
       "      <td>1</td>\n",
       "      <td>31</td>\n",
       "      <td>2.5</td>\n",
       "      <td>1260759144</td>\n",
       "    </tr>\n",
       "    <tr>\n",
       "      <th>1</th>\n",
       "      <td>1</td>\n",
       "      <td>1029</td>\n",
       "      <td>3.0</td>\n",
       "      <td>1260759179</td>\n",
       "    </tr>\n",
       "    <tr>\n",
       "      <th>2</th>\n",
       "      <td>1</td>\n",
       "      <td>1061</td>\n",
       "      <td>3.0</td>\n",
       "      <td>1260759182</td>\n",
       "    </tr>\n",
       "    <tr>\n",
       "      <th>3</th>\n",
       "      <td>1</td>\n",
       "      <td>1129</td>\n",
       "      <td>2.0</td>\n",
       "      <td>1260759185</td>\n",
       "    </tr>\n",
       "    <tr>\n",
       "      <th>4</th>\n",
       "      <td>1</td>\n",
       "      <td>1172</td>\n",
       "      <td>4.0</td>\n",
       "      <td>1260759205</td>\n",
       "    </tr>\n",
       "  </tbody>\n",
       "</table>\n",
       "</div>"
      ],
      "text/plain": [
       "   userId  movieId  rating   timestamp\n",
       "0       1       31     2.5  1260759144\n",
       "1       1     1029     3.0  1260759179\n",
       "2       1     1061     3.0  1260759182\n",
       "3       1     1129     2.0  1260759185\n",
       "4       1     1172     4.0  1260759205"
      ]
     },
     "execution_count": 7,
     "metadata": {},
     "output_type": "execute_result"
    }
   ],
   "source": [
    "# let's choose a country that we're interested in watching a movie from\n",
    "country = 'Japan'\n",
    "\n",
    "# we'll import the ratings.csv which has data in the format of userId, movieId, rating, timestamp\n",
    "ratings_csv_path = 'movie-lens-data/ratings.csv'\n",
    "ratings_data = pd.read_csv(ratings_csv_path, encoding='utf-8')\n",
    "ratings_data.head(n=5)"
   ]
  },
  {
   "cell_type": "code",
   "execution_count": 8,
   "metadata": {
    "collapsed": false
   },
   "outputs": [
    {
     "data": {
      "text/html": [
       "<div>\n",
       "<table border=\"1\" class=\"dataframe\">\n",
       "  <thead>\n",
       "    <tr style=\"text-align: right;\">\n",
       "      <th></th>\n",
       "      <th>movieId</th>\n",
       "      <th>title</th>\n",
       "      <th>genres</th>\n",
       "      <th>country</th>\n",
       "    </tr>\n",
       "  </thead>\n",
       "  <tbody>\n",
       "    <tr>\n",
       "      <th>0</th>\n",
       "      <td>1</td>\n",
       "      <td>Toy Story (1995)</td>\n",
       "      <td>Adventure|Animation|Children|Comedy|Fantasy</td>\n",
       "      <td>USA</td>\n",
       "    </tr>\n",
       "    <tr>\n",
       "      <th>1</th>\n",
       "      <td>2</td>\n",
       "      <td>Jumanji (1995)</td>\n",
       "      <td>Adventure|Children|Fantasy</td>\n",
       "      <td>USA</td>\n",
       "    </tr>\n",
       "    <tr>\n",
       "      <th>2</th>\n",
       "      <td>3</td>\n",
       "      <td>Grumpier Old Men (1995)</td>\n",
       "      <td>Comedy|Romance</td>\n",
       "      <td>USA</td>\n",
       "    </tr>\n",
       "    <tr>\n",
       "      <th>3</th>\n",
       "      <td>4</td>\n",
       "      <td>Waiting to Exhale (1995)</td>\n",
       "      <td>Comedy|Drama|Romance</td>\n",
       "      <td>USA</td>\n",
       "    </tr>\n",
       "    <tr>\n",
       "      <th>4</th>\n",
       "      <td>5</td>\n",
       "      <td>Father of the Bride Part II (1995)</td>\n",
       "      <td>Comedy</td>\n",
       "      <td>USA</td>\n",
       "    </tr>\n",
       "  </tbody>\n",
       "</table>\n",
       "</div>"
      ],
      "text/plain": [
       "   movieId                               title  \\\n",
       "0        1                    Toy Story (1995)   \n",
       "1        2                      Jumanji (1995)   \n",
       "2        3             Grumpier Old Men (1995)   \n",
       "3        4            Waiting to Exhale (1995)   \n",
       "4        5  Father of the Bride Part II (1995)   \n",
       "\n",
       "                                        genres country  \n",
       "0  Adventure|Animation|Children|Comedy|Fantasy     USA  \n",
       "1                   Adventure|Children|Fantasy     USA  \n",
       "2                               Comedy|Romance     USA  \n",
       "3                         Comedy|Drama|Romance     USA  \n",
       "4                                       Comedy     USA  "
      ]
     },
     "execution_count": 8,
     "metadata": {},
     "output_type": "execute_result"
    }
   ],
   "source": [
    "# now we need a data frame of the data we just got from OMDB that includes the country data\n",
    "# this file is of the format movieId, title, genres, country\n",
    "movies_country_csv_path = 'scripts/output/movie-countries.csv'\n",
    "movies_data = pd.read_csv(movies_country_csv_path, encoding='utf-8', keep_default_na=False)\n",
    "movies_data.head(n=5)"
   ]
  },
  {
   "cell_type": "code",
   "execution_count": 9,
   "metadata": {
    "collapsed": false
   },
   "outputs": [
    {
     "name": "stdout",
     "output_type": "stream",
     "text": [
      "number of ratings in training set: 80003 \n",
      "number of ratings in test set: 20001 \n"
     ]
    }
   ],
   "source": [
    "# import the library that will split our data for us\n",
    "from sklearn.model_selection import train_test_split\n",
    "\n",
    "# split 80% training, 20% testing\n",
    "training_data, test_data = train_test_split(ratings_data, test_size=0.2)\n",
    "print \"number of ratings in training set: %d \" % training_data.shape[0]\n",
    "print \"number of ratings in test set: %d \" % test_data.shape[0]"
   ]
  },
  {
   "cell_type": "markdown",
   "metadata": {},
   "source": [
    "Alright, now we're ready for each recommender type!\n",
    "\n",
    "### Popularity Recommender\n",
    "The popularity recommender does not actually use any machine learning- it simply recommends the most popular items based on previous user ratings. In other words, there is no personalization for the current user- all users receive the same results. The Bookbub list of 80 books is an example of a sort of popularity recommender since everybody is exposed to the same recommendations."
   ]
  },
  {
   "cell_type": "code",
   "execution_count": 10,
   "metadata": {
    "collapsed": false
   },
   "outputs": [
    {
     "data": {
      "text/html": [
       "<div>\n",
       "<table border=\"1\" class=\"dataframe\">\n",
       "  <thead>\n",
       "    <tr style=\"text-align: right;\">\n",
       "      <th></th>\n",
       "      <th>userId</th>\n",
       "      <th>movieId</th>\n",
       "      <th>rating</th>\n",
       "      <th>timestamp</th>\n",
       "      <th>title</th>\n",
       "      <th>genres</th>\n",
       "      <th>country</th>\n",
       "    </tr>\n",
       "  </thead>\n",
       "  <tbody>\n",
       "    <tr>\n",
       "      <th>33570</th>\n",
       "      <td>1</td>\n",
       "      <td>31</td>\n",
       "      <td>2.5</td>\n",
       "      <td>1260759144</td>\n",
       "      <td>Dangerous Minds (1995)</td>\n",
       "      <td>Drama</td>\n",
       "      <td>USA</td>\n",
       "    </tr>\n",
       "    <tr>\n",
       "      <th>45625</th>\n",
       "      <td>1</td>\n",
       "      <td>1029</td>\n",
       "      <td>3.0</td>\n",
       "      <td>1260759179</td>\n",
       "      <td>Dumbo (1941)</td>\n",
       "      <td>Animation|Children|Drama|Musical</td>\n",
       "      <td>USA</td>\n",
       "    </tr>\n",
       "    <tr>\n",
       "      <th>28189</th>\n",
       "      <td>1</td>\n",
       "      <td>1061</td>\n",
       "      <td>3.0</td>\n",
       "      <td>1260759182</td>\n",
       "      <td>Sleepers (1996)</td>\n",
       "      <td>Thriller</td>\n",
       "      <td>USA</td>\n",
       "    </tr>\n",
       "    <tr>\n",
       "      <th>52902</th>\n",
       "      <td>1</td>\n",
       "      <td>1129</td>\n",
       "      <td>2.0</td>\n",
       "      <td>1260759185</td>\n",
       "      <td>Escape from New York (1981)</td>\n",
       "      <td>Action|Adventure|Sci-Fi|Thriller</td>\n",
       "      <td>UK|USA</td>\n",
       "    </tr>\n",
       "    <tr>\n",
       "      <th>14393</th>\n",
       "      <td>1</td>\n",
       "      <td>1172</td>\n",
       "      <td>4.0</td>\n",
       "      <td>1260759205</td>\n",
       "      <td>Cinema Paradiso (Nuovo cinema Paradiso) (1989)</td>\n",
       "      <td>Drama</td>\n",
       "      <td>Italy|France</td>\n",
       "    </tr>\n",
       "  </tbody>\n",
       "</table>\n",
       "</div>"
      ],
      "text/plain": [
       "       userId  movieId  rating   timestamp  \\\n",
       "33570       1       31     2.5  1260759144   \n",
       "45625       1     1029     3.0  1260759179   \n",
       "28189       1     1061     3.0  1260759182   \n",
       "52902       1     1129     2.0  1260759185   \n",
       "14393       1     1172     4.0  1260759205   \n",
       "\n",
       "                                                title  \\\n",
       "33570                          Dangerous Minds (1995)   \n",
       "45625                                    Dumbo (1941)   \n",
       "28189                                 Sleepers (1996)   \n",
       "52902                     Escape from New York (1981)   \n",
       "14393  Cinema Paradiso (Nuovo cinema Paradiso) (1989)   \n",
       "\n",
       "                                 genres       country  \n",
       "33570                             Drama           USA  \n",
       "45625  Animation|Children|Drama|Musical           USA  \n",
       "28189                          Thriller           USA  \n",
       "52902  Action|Adventure|Sci-Fi|Thriller        UK|USA  \n",
       "14393                             Drama  Italy|France  "
      ]
     },
     "execution_count": 10,
     "metadata": {},
     "output_type": "execute_result"
    }
   ],
   "source": [
    "# first we will merge our ratings data with our movie/country data\n",
    "training_ratings_with_movies = pd.merge(training_data, movies_data, on='movieId').sort_values(by=['userId', 'movieId'])\n",
    "training_ratings_with_movies.head(n=5)"
   ]
  },
  {
   "cell_type": "code",
   "execution_count": 11,
   "metadata": {
    "collapsed": false
   },
   "outputs": [
    {
     "name": "stdout",
     "output_type": "stream",
     "text": [
      "total number of movies associated with Japan: 1758\n"
     ]
    },
    {
     "data": {
      "text/html": [
       "<div>\n",
       "<table border=\"1\" class=\"dataframe\">\n",
       "  <thead>\n",
       "    <tr style=\"text-align: right;\">\n",
       "      <th></th>\n",
       "      <th>userId</th>\n",
       "      <th>movieId</th>\n",
       "      <th>rating</th>\n",
       "      <th>timestamp</th>\n",
       "      <th>title</th>\n",
       "      <th>genres</th>\n",
       "      <th>country</th>\n",
       "    </tr>\n",
       "  </thead>\n",
       "  <tbody>\n",
       "    <tr>\n",
       "      <th>53701</th>\n",
       "      <td>2</td>\n",
       "      <td>273</td>\n",
       "      <td>4.0</td>\n",
       "      <td>835355779</td>\n",
       "      <td>Mary Shelley's Frankenstein (Frankenstein) (1994)</td>\n",
       "      <td>Drama|Horror|Sci-Fi</td>\n",
       "      <td>USA|Japan|UK</td>\n",
       "    </tr>\n",
       "    <tr>\n",
       "      <th>74113</th>\n",
       "      <td>4</td>\n",
       "      <td>4006</td>\n",
       "      <td>2.0</td>\n",
       "      <td>949982238</td>\n",
       "      <td>Transformers: The Movie (1986)</td>\n",
       "      <td>Adventure|Animation|Children|Sci-Fi</td>\n",
       "      <td>USA|Japan</td>\n",
       "    </tr>\n",
       "    <tr>\n",
       "      <th>44231</th>\n",
       "      <td>5</td>\n",
       "      <td>5679</td>\n",
       "      <td>4.5</td>\n",
       "      <td>1163374389</td>\n",
       "      <td>Ring, The (2002)</td>\n",
       "      <td>Horror|Mystery|Thriller</td>\n",
       "      <td>USA|Japan</td>\n",
       "    </tr>\n",
       "    <tr>\n",
       "      <th>68339</th>\n",
       "      <td>6</td>\n",
       "      <td>1687</td>\n",
       "      <td>2.0</td>\n",
       "      <td>1109258281</td>\n",
       "      <td>Jackal, The (1997)</td>\n",
       "      <td>Action|Thriller</td>\n",
       "      <td>USA|UK|France|Germany|Japan</td>\n",
       "    </tr>\n",
       "    <tr>\n",
       "      <th>61449</th>\n",
       "      <td>8</td>\n",
       "      <td>7143</td>\n",
       "      <td>3.5</td>\n",
       "      <td>1154400294</td>\n",
       "      <td>Last Samurai, The (2003)</td>\n",
       "      <td>Action|Adventure|Drama|War</td>\n",
       "      <td>USA|New Zealand|Japan</td>\n",
       "    </tr>\n",
       "  </tbody>\n",
       "</table>\n",
       "</div>"
      ],
      "text/plain": [
       "       userId  movieId  rating   timestamp  \\\n",
       "53701       2      273     4.0   835355779   \n",
       "74113       4     4006     2.0   949982238   \n",
       "44231       5     5679     4.5  1163374389   \n",
       "68339       6     1687     2.0  1109258281   \n",
       "61449       8     7143     3.5  1154400294   \n",
       "\n",
       "                                                   title  \\\n",
       "53701  Mary Shelley's Frankenstein (Frankenstein) (1994)   \n",
       "74113                     Transformers: The Movie (1986)   \n",
       "44231                                   Ring, The (2002)   \n",
       "68339                                 Jackal, The (1997)   \n",
       "61449                           Last Samurai, The (2003)   \n",
       "\n",
       "                                    genres                      country  \n",
       "53701                  Drama|Horror|Sci-Fi                 USA|Japan|UK  \n",
       "74113  Adventure|Animation|Children|Sci-Fi                    USA|Japan  \n",
       "44231              Horror|Mystery|Thriller                    USA|Japan  \n",
       "68339                      Action|Thriller  USA|UK|France|Germany|Japan  \n",
       "61449           Action|Adventure|Drama|War        USA|New Zealand|Japan  "
      ]
     },
     "execution_count": 11,
     "metadata": {},
     "output_type": "execute_result"
    }
   ],
   "source": [
    "# now we can apply a filter for country on the data set. \n",
    "country_filter = training_ratings_with_movies[training_ratings_with_movies.apply(\n",
    "    lambda x: country in x['country'], axis=1)]\n",
    "print \"total number of movies associated with %s: %d\" %(country, country_filter.shape[0])\n",
    "country_filter.head(n=5)"
   ]
  },
  {
   "cell_type": "markdown",
   "metadata": {},
   "source": [
    "We can do this country filter multiple ways. This first way takes any movie that has Japan associated with it. This next filter only accepts movies where Japan is the sole attributed country. This may be relevant since it seems that many times when a country is attributed as one among many countries, the movie does not actually have much to do with that country. For instance, A Simple Plan was co-financed by international partners from Germany, UK, France and so have these countries attributed to it. This isn't ideal if our goal is to learn about Japan as a country, so the sole filter may be more useful."
   ]
  },
  {
   "cell_type": "code",
   "execution_count": 12,
   "metadata": {
    "collapsed": false
   },
   "outputs": [
    {
     "name": "stdout",
     "output_type": "stream",
     "text": [
      "total number of movies attributed solely to Japan: 659\n"
     ]
    },
    {
     "data": {
      "text/html": [
       "<div>\n",
       "<table border=\"1\" class=\"dataframe\">\n",
       "  <thead>\n",
       "    <tr style=\"text-align: right;\">\n",
       "      <th></th>\n",
       "      <th>userId</th>\n",
       "      <th>movieId</th>\n",
       "      <th>rating</th>\n",
       "      <th>timestamp</th>\n",
       "      <th>title</th>\n",
       "      <th>genres</th>\n",
       "      <th>country</th>\n",
       "    </tr>\n",
       "  </thead>\n",
       "  <tbody>\n",
       "    <tr>\n",
       "      <th>75448</th>\n",
       "      <td>12</td>\n",
       "      <td>3799</td>\n",
       "      <td>1.0</td>\n",
       "      <td>968045198</td>\n",
       "      <td>Pokémon the Movie 2000 (2000)</td>\n",
       "      <td>Animation|Children</td>\n",
       "      <td>Japan</td>\n",
       "    </tr>\n",
       "    <tr>\n",
       "      <th>69022</th>\n",
       "      <td>12</td>\n",
       "      <td>3864</td>\n",
       "      <td>3.0</td>\n",
       "      <td>968045015</td>\n",
       "      <td>Godzilla 2000 (Gojira ni-sen mireniamu) (1999)</td>\n",
       "      <td>Action|Adventure|Sci-Fi</td>\n",
       "      <td>Japan</td>\n",
       "    </tr>\n",
       "    <tr>\n",
       "      <th>35907</th>\n",
       "      <td>15</td>\n",
       "      <td>2019</td>\n",
       "      <td>4.5</td>\n",
       "      <td>1134521638</td>\n",
       "      <td>Seven Samurai (Shichinin no samurai) (1954)</td>\n",
       "      <td>Action|Adventure|Drama</td>\n",
       "      <td>Japan</td>\n",
       "    </tr>\n",
       "    <tr>\n",
       "      <th>55812</th>\n",
       "      <td>15</td>\n",
       "      <td>2905</td>\n",
       "      <td>4.0</td>\n",
       "      <td>1040205754</td>\n",
       "      <td>Sanjuro (Tsubaki Sanjûrô) (1962)</td>\n",
       "      <td>Action|Adventure|Drama</td>\n",
       "      <td>Japan</td>\n",
       "    </tr>\n",
       "    <tr>\n",
       "      <th>55171</th>\n",
       "      <td>15</td>\n",
       "      <td>3000</td>\n",
       "      <td>4.0</td>\n",
       "      <td>997939086</td>\n",
       "      <td>Princess Mononoke (Mononoke-hime) (1997)</td>\n",
       "      <td>Action|Adventure|Animation|Drama|Fantasy</td>\n",
       "      <td>Japan</td>\n",
       "    </tr>\n",
       "  </tbody>\n",
       "</table>\n",
       "</div>"
      ],
      "text/plain": [
       "       userId  movieId  rating   timestamp  \\\n",
       "75448      12     3799     1.0   968045198   \n",
       "69022      12     3864     3.0   968045015   \n",
       "35907      15     2019     4.5  1134521638   \n",
       "55812      15     2905     4.0  1040205754   \n",
       "55171      15     3000     4.0   997939086   \n",
       "\n",
       "                                                title  \\\n",
       "75448                   Pokémon the Movie 2000 (2000)   \n",
       "69022  Godzilla 2000 (Gojira ni-sen mireniamu) (1999)   \n",
       "35907     Seven Samurai (Shichinin no samurai) (1954)   \n",
       "55812                Sanjuro (Tsubaki Sanjûrô) (1962)   \n",
       "55171        Princess Mononoke (Mononoke-hime) (1997)   \n",
       "\n",
       "                                         genres country  \n",
       "75448                        Animation|Children   Japan  \n",
       "69022                   Action|Adventure|Sci-Fi   Japan  \n",
       "35907                    Action|Adventure|Drama   Japan  \n",
       "55812                    Action|Adventure|Drama   Japan  \n",
       "55171  Action|Adventure|Animation|Drama|Fantasy   Japan  "
      ]
     },
     "execution_count": 12,
     "metadata": {},
     "output_type": "execute_result"
    }
   ],
   "source": [
    "sole_country_filter = training_ratings_with_movies.loc[training_ratings_with_movies['country']==country]\n",
    "print \"total number of movies attributed solely to %s: %d\" %(country, sole_country_filter.shape[0])\n",
    "sole_country_filter.head(n=5)"
   ]
  },
  {
   "cell_type": "markdown",
   "metadata": {},
   "source": [
    "Okay, now the fun part- let's see what the most popular movies are from Japan."
   ]
  },
  {
   "cell_type": "code",
   "execution_count": 13,
   "metadata": {
    "collapsed": false
   },
   "outputs": [
    {
     "data": {
      "text/html": [
       "<div>\n",
       "<table border=\"1\" class=\"dataframe\">\n",
       "  <thead>\n",
       "    <tr>\n",
       "      <th></th>\n",
       "      <th>title</th>\n",
       "      <th colspan=\"2\" halign=\"left\">rating</th>\n",
       "    </tr>\n",
       "    <tr>\n",
       "      <th></th>\n",
       "      <th></th>\n",
       "      <th>size</th>\n",
       "      <th>mean</th>\n",
       "    </tr>\n",
       "  </thead>\n",
       "  <tbody>\n",
       "    <tr>\n",
       "      <th>0</th>\n",
       "      <td>Kwaidan (Kaidan) (1964)</td>\n",
       "      <td>1.0</td>\n",
       "      <td>5.0</td>\n",
       "    </tr>\n",
       "    <tr>\n",
       "      <th>1</th>\n",
       "      <td>Wild Zero (2000)</td>\n",
       "      <td>1.0</td>\n",
       "      <td>5.0</td>\n",
       "    </tr>\n",
       "    <tr>\n",
       "      <th>2</th>\n",
       "      <td>Neon Genesis Evangelion: The End of Evangelion...</td>\n",
       "      <td>1.0</td>\n",
       "      <td>5.0</td>\n",
       "    </tr>\n",
       "    <tr>\n",
       "      <th>3</th>\n",
       "      <td>One Piece Film: Strong World (2009)</td>\n",
       "      <td>1.0</td>\n",
       "      <td>5.0</td>\n",
       "    </tr>\n",
       "    <tr>\n",
       "      <th>4</th>\n",
       "      <td>Ugetsu (Ugetsu monogatari) (1953)</td>\n",
       "      <td>1.0</td>\n",
       "      <td>5.0</td>\n",
       "    </tr>\n",
       "  </tbody>\n",
       "</table>\n",
       "</div>"
      ],
      "text/plain": [
       "                                               title rating     \n",
       "                                                       size mean\n",
       "0                            Kwaidan (Kaidan) (1964)    1.0  5.0\n",
       "1                                   Wild Zero (2000)    1.0  5.0\n",
       "2  Neon Genesis Evangelion: The End of Evangelion...    1.0  5.0\n",
       "3                One Piece Film: Strong World (2009)    1.0  5.0\n",
       "4                  Ugetsu (Ugetsu monogatari) (1953)    1.0  5.0"
      ]
     },
     "execution_count": 13,
     "metadata": {},
     "output_type": "execute_result"
    }
   ],
   "source": [
    "import numpy as np\n",
    "\n",
    "popular_movies = sole_country_filter.groupby('title').agg({'rating': [np.size, np.mean]}).sort_values(\n",
    "    [('rating', 'mean')], ascending=False).reset_index()\n",
    "popular_movies.head(n=5)"
   ]
  },
  {
   "cell_type": "markdown",
   "metadata": {},
   "source": [
    "This isn't ideal- these movies that have only one rating are getting really high ratings since one person gave them a five star. That's hardly what popular means! We could apply some sort of algorithm in order to get a better 'popularity' score. The function below is adapted from [Evan Miller's post](http://www.evanmiller.org/how-not-to-sort-by-average-rating.html) on how to get a more accurate rating. "
   ]
  },
  {
   "cell_type": "code",
   "execution_count": 14,
   "metadata": {
    "collapsed": false
   },
   "outputs": [
    {
     "data": {
      "text/plain": [
       "0.7111690380734976"
      ]
     },
     "execution_count": 14,
     "metadata": {},
     "output_type": "execute_result"
    }
   ],
   "source": [
    "import math\n",
    "\n",
    "def wilson_score(num_positive_ratings, num_ratings):\n",
    "    # we'll default to a 95% confidence level\n",
    "    if num_ratings == 0:\n",
    "        return 0\n",
    "    # this is a z score, since we're using a 95% confidence level, z will always be 1.96\n",
    "    z = 1.96\n",
    "    phat = 1.0 * num_positive_ratings / num_ratings\n",
    "    return (phat + z*z/(2*num_ratings) - z * \n",
    "            math.sqrt((phat*(1-phat)+z*z/(4*num_ratings))/num_ratings))/(1+z*z/num_ratings)\n",
    "    \n",
    "wilson_score(80, 100)"
   ]
  },
  {
   "cell_type": "code",
   "execution_count": 15,
   "metadata": {
    "collapsed": false
   },
   "outputs": [
    {
     "data": {
      "text/html": [
       "<div>\n",
       "<table border=\"1\" class=\"dataframe\">\n",
       "  <thead>\n",
       "    <tr>\n",
       "      <th></th>\n",
       "      <th>title</th>\n",
       "      <th>wilson score</th>\n",
       "    </tr>\n",
       "    <tr>\n",
       "      <th></th>\n",
       "      <th></th>\n",
       "      <th></th>\n",
       "    </tr>\n",
       "  </thead>\n",
       "  <tbody>\n",
       "    <tr>\n",
       "      <th>70</th>\n",
       "      <td>Howl's Moving Castle (Hauru no ugoku shiro) (2...</td>\n",
       "      <td>0.845356</td>\n",
       "    </tr>\n",
       "    <tr>\n",
       "      <th>128</th>\n",
       "      <td>Seven Samurai (Shichinin no samurai) (1954)</td>\n",
       "      <td>0.838607</td>\n",
       "    </tr>\n",
       "    <tr>\n",
       "      <th>113</th>\n",
       "      <td>Princess Mononoke (Mononoke-hime) (1997)</td>\n",
       "      <td>0.798525</td>\n",
       "    </tr>\n",
       "    <tr>\n",
       "      <th>54</th>\n",
       "      <td>Ghost in the Shell (Kôkaku kidôtai) (1995)</td>\n",
       "      <td>0.790084</td>\n",
       "    </tr>\n",
       "    <tr>\n",
       "      <th>132</th>\n",
       "      <td>Spirited Away (Sen to Chihiro no kamikakushi) ...</td>\n",
       "      <td>0.786395</td>\n",
       "    </tr>\n",
       "  </tbody>\n",
       "</table>\n",
       "</div>"
      ],
      "text/plain": [
       "                                                 title wilson score\n",
       "                                                                   \n",
       "70   Howl's Moving Castle (Hauru no ugoku shiro) (2...     0.845356\n",
       "128        Seven Samurai (Shichinin no samurai) (1954)     0.838607\n",
       "113           Princess Mononoke (Mononoke-hime) (1997)     0.798525\n",
       "54          Ghost in the Shell (Kôkaku kidôtai) (1995)     0.790084\n",
       "132  Spirited Away (Sen to Chihiro no kamikakushi) ...     0.786395"
      ]
     },
     "execution_count": 15,
     "metadata": {},
     "output_type": "execute_result"
    }
   ],
   "source": [
    "# here's a function to help us determine what a 'positive' rating is\n",
    "def number_positive_ratings(x):\n",
    "    pos = x[x >= 3]\n",
    "    return pos.size\n",
    "    \n",
    "# make our data frame show us the number of positive ratings, as well as number overall ratings \n",
    "# grouped by movie title    \n",
    "grouped_ratings = sole_country_filter.groupby('title').agg({\n",
    "        'rating': [number_positive_ratings, np.size]}).reset_index()\n",
    "\n",
    "# apply the wilson score function now that we have number of positive ratings and number of overall ratings\n",
    "grouped_ratings['wilson score'] = np.vectorize(wilson_score)(grouped_ratings['rating']['number_positive_ratings'], \n",
    "                                                             grouped_ratings['rating']['size'])\n",
    "\n",
    "# let's see what's popular in Japan!\n",
    "grouped_ratings[['title','wilson score']].sort_values('wilson score', ascending=False).head(n=5)\n"
   ]
  },
  {
   "cell_type": "markdown",
   "metadata": {},
   "source": [
    "Nice- this list of movies looks a lot more reasonable. The Wilson Score tells us how confident we are that ratings for this movie is positive. Movies 2-5 in this list are all highly acclaimed Miyazaki movies which even I've heard of before. I had never heard of Seven Samurai, but the [Seven Samurai Wikipedia](https://en.wikipedia.org/wiki/Seven_Samurai) page says:\n",
    "> Since its release, Seven Samurai has consistently ranked highly in critics' lists of the greatest films, such as the BFI's Sight & Sound and Rotten Tomatoes polls. It has remained highly influential, often seen as one of the most \"remade, reworked, referenced\" films in cinema.\n",
    "\n",
    "So it seems like we are indeed getting popular movies back!"
   ]
  },
  {
   "cell_type": "markdown",
   "metadata": {},
   "source": [
    "### Item Similary Recommender\n",
    "Alright, let's move on and try to get some personalization with our recommendations. The next method we are going to use is the Item Similarity Recommender. What this means is that you tell the model the movies you like, and the model will go and try to find the movies that are the most similar to the ones that you liked and return them to you.\n",
    "\n",
    "To create the model, we take in our user ratings file. The model will compute the similarity between movies by associating movies that a user has watched before and enjoyed as similar. The similarity function is often a Cosine or Pearson similarity function.\n",
    "\n",
    "I implemented this using the libraries we have already been using, but building the model proved pretty memory intensive on my computer, even with Movielens's smaller dataset. If you're interested, the code can be found in my github and was based largely off of [Ethan Rosenthal's blog](http://blog.ethanrosenthal.com/2015/11/02/intro-to-collaborative-filtering/). \n",
    "\n",
    "I decided to look into other libraries that would be more powerful and efficient and came across [Graphlab](https://turi.com/). Graphlab is particularly good for large data sets that need efficient distributed and parallel algorithms- sounds perfect for our needs! It also makes model creation very easy and on a high level, similar to what you might see from Microsoft Azure but without the UI."
   ]
  },
  {
   "cell_type": "code",
   "execution_count": 22,
   "metadata": {
    "collapsed": false
   },
   "outputs": [],
   "source": [
    "%%capture\n",
    "import graphlab as gl\n",
    "\n",
    "# Graphlab uses SFrames instead of Pandas data frames, but the conversion is easy.\n",
    "# we have training_data as a pandas dframe so...\n",
    "training_data_gl = gl.SFrame(training_data)\n",
    "\n",
    "# making a model in graphlab is as easy as...\n",
    "item_similarity_recommender = gl.item_similarity_recommender.create(training_data_gl, user_id='userId', \n",
    "                                                                    item_id='movieId', target='rating', \n",
    "                                                                    similarity_type='cosine')\n",
    "\n",
    "# and making recommendations...\n",
    "#recommendations = model.recommend(users=[1], k=num_movies).join(movies_data)"
   ]
  },
  {
   "cell_type": "code",
   "execution_count": null,
   "metadata": {
    "collapsed": true
   },
   "outputs": [],
   "source": []
  }
 ],
 "metadata": {
  "kernelspec": {
   "display_name": "Python 2",
   "language": "python",
   "name": "python2"
  },
  "language_info": {
   "codemirror_mode": {
    "name": "ipython",
    "version": 2
   },
   "file_extension": ".py",
   "mimetype": "text/x-python",
   "name": "python",
   "nbconvert_exporter": "python",
   "pygments_lexer": "ipython2",
   "version": "2.7.13"
  }
 },
 "nbformat": 4,
 "nbformat_minor": 0
}
